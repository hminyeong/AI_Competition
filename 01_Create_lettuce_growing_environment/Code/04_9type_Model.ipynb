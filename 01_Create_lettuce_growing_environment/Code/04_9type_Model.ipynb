{
  "cells": [
    {
      "cell_type": "markdown",
      "source": [
        "##### 데이터 시각화할 때 한글 깨지면 실행할 코드 "
      ],
      "metadata": {
        "id": "zJFEo6ziKlhe"
      }
    },
    {
      "cell_type": "code",
      "execution_count": null,
      "metadata": {
        "id": "wg6LFRTm34y5"
      },
      "outputs": [],
      "source": [
        "# 해당 셀 실행하고 런타임 다시시작 후 아래 셀 실행\n",
        "!sudo apt-get install -y fonts-nanum\n",
        "!sudo fc-cache -fv\n",
        "!rm ~/.cache/matplotlib -rf"
      ]
    },
    {
      "cell_type": "code",
      "execution_count": null,
      "metadata": {
        "id": "Ptm7g2xv35xJ"
      },
      "outputs": [],
      "source": [
        "import matplotlib.pyplot as plt\n",
        "\n",
        "plt.rc('font', family='NanumBarunGothic')"
      ]
    },
    {
      "cell_type": "markdown",
      "metadata": {
        "id": "q1LI6hTQVthI"
      },
      "source": [
        "## Import "
      ]
    },
    {
      "cell_type": "code",
      "execution_count": null,
      "metadata": {
        "colab": {
          "base_uri": "https://localhost:8080/"
        },
        "id": "e_SXlMKk-5k5",
        "outputId": "ec01c1b4-06c7-4934-84ee-3c016c4603f2"
      },
      "outputs": [
        {
          "name": "stdout",
          "output_type": "stream",
          "text": [
            "Mounted at /content/drive\n"
          ]
        }
      ],
      "source": [
        "from google.colab import drive\n",
        "drive.mount('/content/drive')"
      ]
    },
    {
      "cell_type": "code",
      "execution_count": null,
      "metadata": {
        "id": "8vvHXnQyaCHV"
      },
      "outputs": [],
      "source": [
        "!pip install optuna"
      ]
    },
    {
      "cell_type": "code",
      "execution_count": null,
      "metadata": {
        "id": "W-0Rzj5b-_rS"
      },
      "outputs": [],
      "source": [
        "!pip install bayesian-optimization"
      ]
    },
    {
      "cell_type": "code",
      "execution_count": null,
      "metadata": {
        "id": "bUYiHRhw3DVY"
      },
      "outputs": [],
      "source": [
        "#모듈들을 임포트한다.\n",
        "import pandas as pd\n",
        "import matplotlib.pyplot as plt\n",
        "import seaborn as sns\n",
        "import numpy as np\n",
        "from scipy.stats import norm\n",
        "from sklearn.preprocessing import StandardScaler\n",
        "from sklearn.model_selection import cross_val_score, train_test_split, KFold\n",
        "from scipy import stats\n",
        "\n",
        "from tqdm import tqdm\n",
        "from sklearn.linear_model import LinearRegression, ElasticNet, Lasso, Ridge\n",
        "from sklearn.tree import DecisionTreeRegressor\n",
        "from sklearn.ensemble import RandomForestRegressor, GradientBoostingRegressor\n",
        "from sklearn.preprocessing import  LabelEncoder\n",
        "from sklearn.metrics import mean_squared_error\n",
        "import xgboost as xgb\n",
        "import lightgbm as lgb\n",
        "import re\n",
        "\n",
        "import warnings\n",
        "warnings.filterwarnings('ignore')\n",
        "%matplotlib inline\n",
        "\n",
        "# import optuna\n",
        "# from optuna.integration import XGBoostPruningCallback\n",
        "# sns.set_theme(style=\"darkgrid\")"
      ]
    },
    {
      "cell_type": "code",
      "execution_count": null,
      "metadata": {
        "id": "j0J5l7Js3JiP"
      },
      "outputs": [],
      "source": [
        "path = \"/content/drive/MyDrive/01.Competition/03.Create_lettuce_growing_environment_AI/Dataset/my_dataset/\"\n",
        "\n",
        "train_df = pd.read_csv(path+\"train_df.csv\")\n",
        "valid_df = pd.read_csv(path+\"valid_df.csv\")\n",
        "test_df = pd.read_csv(path+\"test_df.csv\")\n",
        "\n",
        "train_target = pd.read_csv(path+\"train_target.csv\")\n",
        "valid_target = pd.read_csv(path+\"valid_target.csv\")\n",
        "test_target = pd.read_csv(path+\"test_target.csv\")"
      ]
    },
    {
      "cell_type": "markdown",
      "metadata": {
        "id": "1mjRE6mWg5fk"
      },
      "source": [
        "## Target 값 로그 변환 "
      ]
    },
    {
      "cell_type": "code",
      "execution_count": null,
      "metadata": {
        "colab": {
          "base_uri": "https://localhost:8080/"
        },
        "id": "lAUoifXu3kpv",
        "outputId": "6c4cc06b-3996-4577-b62a-1af2b7c951d2"
      },
      "outputs": [
        {
          "data": {
            "text/plain": [
              "count    644.000000\n",
              "mean      36.793847\n",
              "std       43.630617\n",
              "min        0.167719\n",
              "25%        4.989247\n",
              "50%       17.268621\n",
              "75%       54.982618\n",
              "max      164.150300\n",
              "Name: 생육일별_잎_중량, dtype: float64"
            ]
          },
          "execution_count": 93,
          "metadata": {},
          "output_type": "execute_result"
        }
      ],
      "source": [
        "#descriptive statistics summary\n",
        "train_target['생육일별_잎_중량'].describe()"
      ]
    },
    {
      "cell_type": "code",
      "execution_count": null,
      "metadata": {
        "colab": {
          "base_uri": "https://localhost:8080/"
        },
        "id": "fA_ndY-RfiFL",
        "outputId": "c7d40913-c1e4-4170-d485-9814bdb36d51"
      },
      "outputs": [
        {
          "data": {
            "text/plain": [
              "<Figure size 432x288 with 0 Axes>"
            ]
          },
          "metadata": {},
          "output_type": "display_data"
        },
        {
          "data": {
            "image/png": "[encoded data removed]",
            "text/plain": [
              "<Figure size 360x360 with 1 Axes>"
            ]
          },
          "metadata": {},
          "output_type": "display_data"
        }
      ],
      "source": [
        "plt.figure()\n",
        "sns.displot(train_target['생육일별_잎_중량'], bins=30)\n",
        "plt.xlabel('case')\n",
        "plt.title('Distribution of 생육일별_잎_중량')\n",
        "plt.show()"
      ]
    },
    {
      "cell_type": "code",
      "execution_count": null,
      "metadata": {
        "colab": {
          "base_uri": "https://localhost:8080/"
        },
        "id": "Kkg2cVg8f1rA",
        "outputId": "5ad08cd1-68b5-4841-aa3a-d39d831f48e7"
      },
      "outputs": [
        {
          "name": "stdout",
          "output_type": "stream",
          "text": [
            "      상추  생육일  생육일별_잎_중량  log_weight\n",
            "0  case1    1   0.167719    0.155053\n",
            "       상추  생육일  생육일별_잎_중량  log_weight\n",
            "0  case24    1   0.171071    0.157919\n"
          ]
        }
      ],
      "source": [
        "# 가격 로그 변환 후 원래 가격 따로 저장\n",
        "train_target['log_weight'] = np.log1p(train_target['생육일별_잎_중량'])\n",
        "train_real_weight = train_target['생육일별_잎_중량'] # 원래 가격\n",
        "print(train_target.head(1))\n",
        "\n",
        "valid_target['log_weight'] = np.log1p(valid_target['생육일별_잎_중량'])\n",
        "valid_real_weight = valid_target['생육일별_잎_중량'] # 원래 가격\n",
        "print(valid_target.head(1))"
      ]
    },
    {
      "cell_type": "code",
      "execution_count": null,
      "metadata": {
        "colab": {
          "base_uri": "https://localhost:8080/"
        },
        "id": "TjP2LA8GgODP",
        "outputId": "7e0b2db4-4627-491b-e1e8-554512d9867f"
      },
      "outputs": [
        {
          "data": {
            "image/png": "[encoded data removed]",
            "text/plain": [
              "<Figure size 864x432 with 2 Axes>"
            ]
          },
          "metadata": {},
          "output_type": "display_data"
        }
      ],
      "source": [
        "f, (ax1, ax2) = plt.subplots(1,2,figsize=(12,6))\n",
        "\n",
        "ax1.hist(train_real_weight, bins=30)\n",
        "ax1.set_title('weight Distribution')\n",
        "ax1.set_xlabel('weight')\n",
        "\n",
        "ax2.hist(train_target['log_weight'], bins=30)\n",
        "ax2.set_title('Log weight Distribution')\n",
        "ax2.set_xlabel('Log weight')\n",
        "\n",
        "plt.show()"
      ]
    },
    {
      "cell_type": "code",
      "execution_count": null,
      "metadata": {
        "colab": {
          "base_uri": "https://localhost:8080/"
        },
        "id": "gBwFEaC8hcZp",
        "outputId": "23181a13-5de2-4be3-b0ba-74e169ed0f25"
      },
      "outputs": [
        {
          "data": {
            "image/png": "[encoded data removed]",
            "text/plain": [
              "<Figure size 864x432 with 2 Axes>"
            ]
          },
          "metadata": {},
          "output_type": "display_data"
        }
      ],
      "source": [
        "f, (ax1, ax2) = plt.subplots(1,2,figsize=(12,6))\n",
        "\n",
        "ax1.hist(valid_real_weight, bins=30)\n",
        "ax1.set_title('weight Distribution')\n",
        "ax1.set_xlabel('weight')\n",
        "\n",
        "ax2.hist(valid_target['log_weight'], bins=30)\n",
        "ax2.set_title('Log weight Distribution')\n",
        "ax2.set_xlabel('Log weight')\n",
        "\n",
        "plt.show()"
      ]
    },
    {
      "cell_type": "code",
      "execution_count": null,
      "metadata": {
        "colab": {
          "base_uri": "https://localhost:8080/"
        },
        "id": "HfkYnNfT_5L3",
        "outputId": "6f6fabd4-fd3c-4ad7-f504-858ef2eaf116"
      },
      "outputs": [
        {
          "data": {
            "text/plain": [
              "Index(['상추', '생육일', '측정시간', '내부온도관측치', '내부습도관측치', 'co2관측치', 'ec관측치', '시간당분무량',\n",
              "       '일간누적분무량', '시간당백색광량', '일간누적백색광량', '시간당적색광량', '일간누적적색광량', '시간당청색광량',\n",
              "       '일간누적청색광량', '시간당총광량', '일간누적총광량'],\n",
              "      dtype='object')"
            ]
          },
          "execution_count": 98,
          "metadata": {},
          "output_type": "execute_result"
        }
      ],
      "source": [
        "train_df.columns"
      ]
    },
    {
      "cell_type": "markdown",
      "metadata": {
        "id": "q1P8EdsZgzbA"
      },
      "source": [
        "## Feature Engineering "
      ]
    },
    {
      "cell_type": "code",
      "execution_count": null,
      "metadata": {
        "id": "p5KiMMFGngOH"
      },
      "outputs": [],
      "source": [
        "def ec_time(df):\n",
        "  df['여름철_적정_EC관측_누적시간'] = 0\n",
        "\n",
        "  # 여름철(8월 기준. 온도 19.7-26.7℃, 습도 78-79%) & ec관측치 1.2이상~1.3미만\n",
        "  index_여름철_적정_EC관측_누적시간 = df.loc[\n",
        "        ((df['내부온도관측치']>=19.7) & (df['내부온도관측치']<=26.7)) \n",
        "      & ((df['내부습도관측치']>=78) & (df['내부습도관측치']<=79))\n",
        "      & ((df['ec관측치']>=1.2) & (df['ec관측치']<=1.6))].index\n",
        "\n",
        "  # case 별로 여름철_적정_EC관측_누적시간 구하기 \n",
        "  df.loc[index_여름철_적정_EC관측_누적시간, '여름철_적정_EC관측_누적시간'] = 1\n",
        "  df['여름철_적정_EC관측_누적시간'] = df.groupby(['상추'])['여름철_적정_EC관측_누적시간'].apply(lambda x: x.cumsum())\n",
        "  return df\n",
        "\n",
        "train_df = ec_time(train_df)\n",
        "valid_df = ec_time(valid_df)\n",
        "test_df = ec_time(test_df)"
      ]
    },
    {
      "cell_type": "code",
      "execution_count": null,
      "metadata": {
        "id": "JcsxQ-GXUDJU"
      },
      "outputs": [],
      "source": [
        "def light_time(df):\n",
        "  df['광주기_명기_누적시간'] = 0\n",
        "\n",
        "  index_광주기_명기_누적시간 = df.loc[df['시간당총광량']>0].index\n",
        "\n",
        "  # case 별로 index_광주기_명기_누적시간 구하기 \n",
        "  df.loc[index_광주기_명기_누적시간, '광주기_명기_누적시간'] = 1\n",
        "  df['광주기_명기_누적시간'] = df.groupby(['상추', '생육일'])['광주기_명기_누적시간'].apply(lambda x: x.cumsum())\n",
        "  return df\n",
        "\n",
        "train_df = light_time(train_df)\n",
        "valid_df = light_time(valid_df)\n",
        "test_df = light_time(test_df)"
      ]
    },
    {
      "cell_type": "code",
      "execution_count": null,
      "metadata": {
        "id": "1YvikXXw_ztZ"
      },
      "outputs": [],
      "source": [
        "def combine_feature(df) :\n",
        "    # 2* 기존 feature들 조합\n",
        "    df[\"온도_습도\"] = df[\"내부온도관측치\"] * df[\"내부습도관측치\"]\n",
        "    df[\"온도_co2\"] = df[\"내부온도관측치\"] * df[\"co2관측치\"]\n",
        "    df[\"온도_ec\"] = df[\"내부온도관측치\"] * df[\"ec관측치\"]\n",
        "    df[\"온도_시간당분무량\"] = df[\"내부온도관측치\"] * df[\"시간당분무량\"]\n",
        "    df[\"온도_시간당총광량\"] = df[\"내부온도관측치\"] * df[\"시간당총광량\"]\n",
        "    df[\"온도_일간누적총광량\"] = df[\"내부온도관측치\"] * df[\"일간누적총광량\"]\n",
        "\n",
        "    df[\"습도_co2\"] = df[\"내부습도관측치\"] * df[\"co2관측치\"]\n",
        "    df[\"습도_ec\"] = df[\"내부습도관측치\"] * df[\"ec관측치\"]\n",
        "    df[\"습도_시간당분무량\"] = df[\"내부습도관측치\"] * df[\"시간당분무량\"]\n",
        "    df[\"습도_시간당총광량\"] = df[\"내부습도관측치\"] * df[\"시간당총광량\"]\n",
        "    df[\"습도_일간누적총광량\"] = df[\"내부습도관측치\"] * df[\"일간누적총광량\"]\n",
        "\n",
        "    df[\"co2_ec\"] = df[\"co2관측치\"] * df[\"ec관측치\"]\n",
        "    df[\"co2_시간당분무량\"] = df[\"co2관측치\"] * df[\"시간당분무량\"]\n",
        "    df[\"co2_시간당총광량\"] = df[\"co2관측치\"] * df[\"시간당총광량\"]\n",
        "    df[\"co2_일간누적총광량\"] = df[\"co2관측치\"] * df[\"일간누적총광량\"]\n",
        "\n",
        "    df[\"ec_시간당분무량\"] = df[\"ec관측치\"] * df[\"시간당분무량\"]\n",
        "    df[\"ec_시간당총광량\"] = df[\"ec관측치\"] * df[\"시간당총광량\"]\n",
        "    df[\"ec_일간누적총광량\"] = df[\"ec관측치\"] * df[\"일간누적총광량\"]\n",
        "\n",
        "    df[\"시간당분무량_시간당총광량\"] = df[\"시간당분무량\"] * df[\"시간당총광량\"]\n",
        "    df[\"시간당분무량_일간누적총광량\"] = df[\"시간당분무량\"] * df[\"일간누적총광량\"]\n",
        "\n",
        "    df[\"시간당총광량_일간누적총광량\"] = df[\"시간당총광량\"] * df[\"일간누적총광량\"]\n",
        "\n",
        "\n",
        "    # 3* 기존 feature들 조합\n",
        "    df[\"온도_습도_co2\"] = df[\"내부온도관측치\"] * df[\"내부습도관측치\"] * df[\"co2관측치\"]\n",
        "    df[\"온도_습도_ec\"] = df[\"내부온도관측치\"] * df[\"내부습도관측치\"] * df[\"ec관측치\"]\n",
        "    df[\"온도_습도_시간당분무량\"] = df[\"내부온도관측치\"] * df[\"내부습도관측치\"] * df[\"시간당분무량\"]\n",
        "    df[\"온도_습도_시간당총광량\"] = df[\"내부온도관측치\"] * df[\"내부습도관측치\"] * df[\"시간당총광량\"]\n",
        "    df[\"온도_습도_일간누적총광량\"] = df[\"내부온도관측치\"] * df[\"내부습도관측치\"] * df[\"일간누적총광량\"]\n",
        "\n",
        "    df[\"습도_co2_ec\"] = df[\"내부습도관측치\"] * df[\"co2관측치\"] * df[\"ec관측치\"]\n",
        "    df[\"습도_co2_시간당분무량\"] = df[\"내부습도관측치\"] * df[\"co2관측치\"] * df[\"시간당분무량\"]\n",
        "    df[\"습도_co2_시간당총광량\"] = df[\"내부습도관측치\"] * df[\"co2관측치\"] * df[\"시간당총광량\"]\n",
        "    df[\"습도_co2_일간누적총광량\"] = df[\"내부습도관측치\"] * df[\"co2관측치\"] * df[\"일간누적총광량\"]\n",
        "\n",
        "    df[\"co2_ec_시간당분무량\"] = df[\"co2관측치\"] * df[\"ec관측치\"] * df[\"시간당분무량\"]\n",
        "    df[\"co2_ec_시간당총광량\"] = df[\"co2관측치\"] * df[\"ec관측치\"] * df[\"시간당총광량\"]\n",
        "    df[\"co2_ec_일간누적총광량\"] = df[\"co2관측치\"] * df[\"ec관측치\"] * df[\"일간누적총광량\"]\n",
        "\n",
        "    df[\"ec_시간당분무량_시간당총광량\"] = df[\"ec관측치\"] * df[\"시간당분무량\"] * df[\"시간당총광량\"]\n",
        "    df[\"ec_시간당분무량_일간누적총광량\"] = df[\"ec관측치\"] * df[\"시간당분무량\"] * df[\"일간누적총광량\"]\n",
        "\n",
        "    df[\"시간당분무량_시간당총광량_일간누적총광량\"] = df[\"시간당분무량\"] * df[\"시간당총광량\"] * df[\"일간누적총광량\"]\n",
        "    return df\n",
        "\n",
        "train_df = combine_feature(train_df)\n",
        "valid_df = combine_feature(valid_df)\n",
        "test_df = combine_feature(test_df)"
      ]
    },
    {
      "cell_type": "code",
      "execution_count": null,
      "metadata": {
        "colab": {
          "base_uri": "https://localhost:8080/"
        },
        "id": "NjUGaxnH_zlC",
        "outputId": "07f4a98e-1e89-4bef-b62d-201d1696d3ce"
      },
      "outputs": [
        {
          "data": {
            "text/plain": [
              "Index(['상추', '생육일', '측정시간', '내부온도관측치', '내부습도관측치', 'co2관측치', 'ec관측치', '시간당분무량',\n",
              "       '일간누적분무량', '시간당백색광량', '일간누적백색광량', '시간당적색광량', '일간누적적색광량', '시간당청색광량',\n",
              "       '일간누적청색광량', '시간당총광량', '일간누적총광량', '여름철_적정_EC관측_누적시간', '광주기_명기_누적시간',\n",
              "       '온도_습도', '온도_co2', '온도_ec', '온도_시간당분무량', '온도_시간당총광량', '온도_일간누적총광량',\n",
              "       '습도_co2', '습도_ec', '습도_시간당분무량', '습도_시간당총광량', '습도_일간누적총광량', 'co2_ec',\n",
              "       'co2_시간당분무량', 'co2_시간당총광량', 'co2_일간누적총광량', 'ec_시간당분무량', 'ec_시간당총광량',\n",
              "       'ec_일간누적총광량', '시간당분무량_시간당총광량', '시간당분무량_일간누적총광량', '시간당총광량_일간누적총광량',\n",
              "       '온도_습도_co2', '온도_습도_ec', '온도_습도_시간당분무량', '온도_습도_시간당총광량',\n",
              "       '온도_습도_일간누적총광량', '습도_co2_ec', '습도_co2_시간당분무량', '습도_co2_시간당총광량',\n",
              "       '습도_co2_일간누적총광량', 'co2_ec_시간당분무량', 'co2_ec_시간당총광량', 'co2_ec_일간누적총광량',\n",
              "       'ec_시간당분무량_시간당총광량', 'ec_시간당분무량_일간누적총광량', '시간당분무량_시간당총광량_일간누적총광량'],\n",
              "      dtype='object')"
            ]
          },
          "execution_count": 102,
          "metadata": {},
          "output_type": "execute_result"
        }
      ],
      "source": [
        "test_df.columns"
      ]
    },
    {
      "cell_type": "code",
      "execution_count": null,
      "metadata": {
        "id": "3Di3Sbqizzqc"
      },
      "outputs": [],
      "source": []
    },
    {
      "cell_type": "markdown",
      "metadata": {
        "id": "jo04w64GYsSd"
      },
      "source": [
        "## Modeling "
      ]
    },
    {
      "cell_type": "markdown",
      "metadata": {
        "id": "l7ghZVrUiSjX"
      },
      "source": [
        "1. 평가지표  \n",
        "대회의 평가지표는 RMSE이나, 우리는 타겟값에 log를 취했기 때문에 RMSE를 구하는게 RMSLE를 구하는 것과 동치.  \n",
        "학습에는 이를 사용하고, test 파일에서는 역변환을 해서 RMSE가 제대로 평가될 수 있게 진행. "
      ]
    },
    {
      "cell_type": "markdown",
      "metadata": {
        "id": "JinYPDDxigHj"
      },
      "source": [
        "2. 교차검증  "
      ]
    },
    {
      "cell_type": "markdown",
      "metadata": {
        "id": "aTRmVmyCipe8"
      },
      "source": [
        "3. 모델 비교  \n",
        "여러개의 모델을 사용해서 RMSLE를 비교하고, 가장 낮은 RMSLE가 나온 모델을 선정해 튜닝.  \n",
        "가격을 예측하는 회귀 모형을 사용.   \n",
        "\n",
        "  -  모델 목록  \n",
        "Linear Regression  \n",
        "Ridge Regression  \n",
        "Lasso Regression  \n",
        "Elasticnet Regression  \n",
        "Decision Tree  \n",
        "RandomForest Regressor  \n",
        "GradientBoosting Regressor  \n",
        "XGBoost Regressor  \n",
        "LightGBM Regressor  "
      ]
    },
    {
      "cell_type": "code",
      "execution_count": null,
      "metadata": {
        "colab": {
          "base_uri": "https://localhost:8080/"
        },
        "id": "qWZFiij5HGEJ",
        "outputId": "ef2b89a2-0aab-4ae9-afb4-e047eb6d040b"
      },
      "outputs": [
        {
          "data": {
            "text/plain": [
              "Index(['상추', '생육일', '측정시간', '내부온도관측치', '내부습도관측치', 'co2관측치', 'ec관측치', '시간당분무량',\n",
              "       '일간누적분무량', '시간당백색광량', '일간누적백색광량', '시간당적색광량', '일간누적적색광량', '시간당청색광량',\n",
              "       '일간누적청색광량', '시간당총광량', '일간누적총광량', '여름철_적정_EC관측_누적시간', '광주기_명기_누적시간',\n",
              "       '온도_습도', '온도_co2', '온도_ec', '온도_시간당분무량', '온도_시간당총광량', '온도_일간누적총광량',\n",
              "       '습도_co2', '습도_ec', '습도_시간당분무량', '습도_시간당총광량', '습도_일간누적총광량', 'co2_ec',\n",
              "       'co2_시간당분무량', 'co2_시간당총광량', 'co2_일간누적총광량', 'ec_시간당분무량', 'ec_시간당총광량',\n",
              "       'ec_일간누적총광량', '시간당분무량_시간당총광량', '시간당분무량_일간누적총광량', '시간당총광량_일간누적총광량',\n",
              "       '온도_습도_co2', '온도_습도_ec', '온도_습도_시간당분무량', '온도_습도_시간당총광량',\n",
              "       '온도_습도_일간누적총광량', '습도_co2_ec', '습도_co2_시간당분무량', '습도_co2_시간당총광량',\n",
              "       '습도_co2_일간누적총광량', 'co2_ec_시간당분무량', 'co2_ec_시간당총광량', 'co2_ec_일간누적총광량',\n",
              "       'ec_시간당분무량_시간당총광량', 'ec_시간당분무량_일간누적총광량', '시간당분무량_시간당총광량_일간누적총광량'],\n",
              "      dtype='object')"
            ]
          },
          "execution_count": 15,
          "metadata": {},
          "output_type": "execute_result"
        }
      ],
      "source": [
        "test_df.columns"
      ]
    },
    {
      "cell_type": "code",
      "execution_count": null,
      "metadata": {
        "id": "gyc0Fz_tjXpA"
      },
      "outputs": [],
      "source": [
        "def time_series_df(df, df_target, FEATURES):\n",
        "  df = df[FEATURES]\n",
        "  data_list = []\n",
        "  ts_df = pd.DataFrame()\n",
        "  for idx in range(len(df_target)): # 644\n",
        "      time_series = df[24*idx:24*(idx+1)].values  # case1-1, case1-2, case1-3, ...\n",
        "      time_series = time_series.tolist()\n",
        "      time_series = sum(time_series, []) # 2 dim -> 1 dim\n",
        "      time_series_transepose = pd.DataFrame(time_series).transpose()\n",
        "      ts_df = ts_df.append(time_series_transepose)\n",
        "      # train_data_list.append(torch.Tensor(time_series))\n",
        "  return ts_df\n",
        "\n",
        "FEATURES = ['생육일', '내부온도관측치', '내부습도관측치', 'co2관측치', '시간당분무량', '시간당총광량', '일간누적총광량', 'ec_시간당분무량_시간당총광량']\n",
        "\n",
        "ts_train_df = time_series_df(train_df, train_target, FEATURES)\n",
        "ts_valid_df = time_series_df(valid_df, valid_target, FEATURES)\n",
        "ts_test_df = time_series_df(test_df, test_target, FEATURES)\n",
        "\n",
        "ts_train_target = train_target['log_weight']\n",
        "ts_valid_target = train_target['log_weight']\n",
        "ts_test_target = test_target"
      ]
    },
    {
      "cell_type": "code",
      "execution_count": null,
      "metadata": {
        "id": "ZVn-kJN3qxhA"
      },
      "outputs": [],
      "source": [
        "ts_train_valid_df = ts_train_df.append(ts_valid_df).reset_index(drop=True)\n",
        "ts_train_valid_target_df = train_target.append(valid_target).reset_index(drop=True)\n",
        "ts_train_valid_target_df = ts_train_valid_target_df['log_weight']"
      ]
    },
    {
      "cell_type": "code",
      "execution_count": null,
      "metadata": {
        "colab": {
          "base_uri": "https://localhost:8080/"
        },
        "id": "Q9YeyqGSiQz4",
        "outputId": "14d7c15c-1887-4e03-a5cb-1c5ffd0b5a22"
      },
      "outputs": [
        {
          "name": "stdout",
          "output_type": "stream",
          "text": [
            "(784, 192) (784,)\n",
            "(140, 192) (140, 3)\n"
          ]
        }
      ],
      "source": [
        "print(ts_train_valid_df.shape, ts_train_valid_target_df.shape) # log_weight\n",
        "print(ts_test_df.shape, ts_test_target.shape)   # 상추\t생육일\t생육일별_잎_중량"
      ]
    },
    {
      "cell_type": "code",
      "execution_count": null,
      "metadata": {
        "id": "MhVqRRh9rC2u"
      },
      "outputs": [],
      "source": [
        "from scipy import sparse\n",
        "\n",
        "X_train = sparse.csr_matrix(ts_train_valid_df)\n",
        "Y_train = ts_train_valid_target_df.values \n",
        "\n",
        "X_test = ts_test_df\n",
        "Y_test = test_target"
      ]
    },
    {
      "cell_type": "code",
      "execution_count": null,
      "metadata": {
        "colab": {
          "base_uri": "https://localhost:8080/"
        },
        "id": "uYCX0aLnrRxm",
        "outputId": "4a46ac34-1b07-49be-b313-861294405f9e"
      },
      "outputs": [
        {
          "data": {
            "text/plain": [
              "((784, 192), (784,))"
            ]
          },
          "execution_count": 107,
          "metadata": {},
          "output_type": "execute_result"
        }
      ],
      "source": [
        "X_train.shape, Y_train.shape"
      ]
    },
    {
      "cell_type": "code",
      "execution_count": null,
      "metadata": {
        "id": "_994H5YEuJn3"
      },
      "outputs": [],
      "source": [
        "#Validation function\n",
        "n_folds = 5\n",
        "\n",
        "def RMSE(y, y_pred):\n",
        "    rmse = mean_squared_error(y, y_pred) ** 0.5\n",
        "    return rmse\n",
        "\n",
        "def rmsle_cv(model):\n",
        "    kf = KFold(n_folds, shuffle=True, random_state=42).get_n_splits(X_train)\n",
        "    rmse= np.sqrt(-cross_val_score(model, X_train, Y_train, scoring=\"neg_mean_squared_error\", cv = kf))\n",
        "    return(rmse)"
      ]
    },
    {
      "cell_type": "markdown",
      "metadata": {
        "id": "QlCekjhJyUt5"
      },
      "source": [
        "## GradientBoostingRegressor"
      ]
    },
    {
      "cell_type": "markdown",
      "metadata": {
        "id": "GtrO78mR_Neb"
      },
      "source": [
        "https://3months.tistory.com/516"
      ]
    },
    {
      "cell_type": "code",
      "execution_count": null,
      "metadata": {
        "colab": {
          "base_uri": "https://localhost:8080/"
        },
        "id": "RtG4AsdXxP_J",
        "outputId": "3b4ec081-5064-4e2c-c26b-73e27a7de73e"
      },
      "outputs": [
        {
          "name": "stdout",
          "output_type": "stream",
          "text": [
            "GradientBoostingRegressor score: 0.4435 (0.0903)\n"
          ]
        }
      ],
      "source": [
        "model_gb = GradientBoostingRegressor(n_estimators=3000, \n",
        "                                     learning_rate=0.05,\n",
        "                                     max_depth=4,\n",
        "                                     max_features='sqrt',\n",
        "                                     min_samples_leaf=15,\n",
        "                                     min_samples_split=10,\n",
        "                                     loss='huber',\n",
        "                                     )\n",
        "\n",
        "score = rmsle_cv(model_gb)\n",
        "gb_score = score.mean()\n",
        "print(\"GradientBoostingRegressor score: {:.4f} ({:.4f})\".format(score.mean(), score.std()))"
      ]
    },
    {
      "cell_type": "code",
      "execution_count": null,
      "metadata": {
        "colab": {
          "base_uri": "https://localhost:8080/"
        },
        "id": "hGawsWCwxgsB",
        "outputId": "e64adf48-19df-4095-b848-879acab099dc"
      },
      "outputs": [
        {
          "data": {
            "text/plain": [
              "GradientBoostingRegressor(learning_rate=0.05, loss='huber', max_depth=4,\n",
              "                          max_features='sqrt', min_samples_leaf=15,\n",
              "                          min_samples_split=10, n_estimators=3000)"
            ]
          },
          "execution_count": 66,
          "metadata": {},
          "output_type": "execute_result"
        }
      ],
      "source": [
        "model_gb.fit(X_train, Y_train)"
      ]
    },
    {
      "cell_type": "code",
      "execution_count": null,
      "metadata": {
        "colab": {
          "base_uri": "https://localhost:8080/"
        },
        "id": "BCol-nz7xgoh",
        "outputId": "3af14e4b-9fa3-43ce-fd39-e1eef552dff1"
      },
      "outputs": [
        {
          "data": {
            "text/plain": [
              "array([  0.81368605,   0.88333175,   1.6464882 ,   1.65632955,\n",
              "         2.48342853,   3.21844511,   4.00098791,   4.84105639,\n",
              "         6.46182978,   7.66555755,   9.92084383,  11.90517247,\n",
              "        16.52626469,  19.99502187,  15.06975495,  22.86770209,\n",
              "        26.76882178,  25.71239691,  27.79405703,  34.65243582,\n",
              "        49.37607372,  54.561452  ,  77.46215876,  73.58903892,\n",
              "        80.44152593,  88.02663772,  92.50026674,  97.22165088,\n",
              "         0.51808041,   1.07357347,   1.61314407,   1.99709805,\n",
              "         1.7154756 ,   2.48553057,   3.48594062,   3.94154586,\n",
              "         4.18501266,   4.71056998,   5.60131988,   7.26323475,\n",
              "         8.89258061,   9.36452432,  12.29579384,  12.67446835,\n",
              "        17.00671765,  14.72578587,  15.86547107,  15.5542851 ,\n",
              "        27.17458757,  24.57299524,  26.21441224,  39.64080315,\n",
              "        32.72352049,  32.97588569,  33.59498365,  49.21403653,\n",
              "         1.1035331 ,   1.00518379,   1.12836872,   1.8176591 ,\n",
              "         1.9976719 ,   2.74724559,   2.72889293,   3.22293377,\n",
              "         4.14587892,   4.53397944,   5.12299413,   6.06788293,\n",
              "         7.16856734,   7.89344648,   8.44593136,   9.27590725,\n",
              "        10.41029051,   9.81783433,   8.65242782,  10.18821589,\n",
              "        10.64819965,  11.72827441,  13.68221576,  13.86508991,\n",
              "        16.00981185,  17.76401144,  19.18963312,  19.6391402 ,\n",
              "         0.34827737,   1.14234766,   1.12384846,   1.32882485,\n",
              "         2.38838728,   2.987945  ,   4.05213998,   4.186101  ,\n",
              "         5.68414773,   6.15314657,   8.64414858,  12.99067752,\n",
              "        14.83209466,  18.37259424,  19.04840667,  19.31935753,\n",
              "        28.63434326,  25.27896051,  30.30936789,  34.47097159,\n",
              "        44.91491229,  67.4509331 ,  80.03127854,  98.23429324,\n",
              "        78.93092932,  91.1212056 , 101.20635172, 117.17518891,\n",
              "         0.36324634,   0.82080724,   1.07524618,   1.3602463 ,\n",
              "         1.80317212,   2.28807284,   2.95388389,   3.65708842,\n",
              "         4.37274313,   4.97574677,   6.65926766,   8.53708665,\n",
              "         9.36413679,  12.20068012,  16.88521864,  14.90878706,\n",
              "        13.23624603,  17.63321597,  19.63137446,  17.60331558,\n",
              "        21.1524591 ,  32.25957199,  33.66633908,  36.54167518,\n",
              "        43.17813342,  61.47386898,  58.16067791,  74.53509485])"
            ]
          },
          "execution_count": 67,
          "metadata": {},
          "output_type": "execute_result"
        }
      ],
      "source": [
        "pred_gb = model_gb.predict(X_test)\n",
        "final_pred_sub_gb = np.expm1(pred_gb)\n",
        "final_pred_sub_gb"
      ]
    },
    {
      "cell_type": "code",
      "execution_count": null,
      "metadata": {
        "colab": {
          "base_uri": "https://localhost:8080/",
          "height": 424
        },
        "id": "KqpAd3nw07IP",
        "outputId": "dd14d52a-ea10-427d-80a2-6b6a484972e9"
      },
      "outputs": [
        {
          "data": {
            "text/html": [
              "\n",
              "  <div id=\"df-2c34a15a-5a66-4221-af34-caa5119cd72a\">\n",
              "    <div class=\"colab-df-container\">\n",
              "      <div>\n",
              "<style scoped>\n",
              "    .dataframe tbody tr th:only-of-type {\n",
              "        vertical-align: middle;\n",
              "    }\n",
              "\n",
              "    .dataframe tbody tr th {\n",
              "        vertical-align: top;\n",
              "    }\n",
              "\n",
              "    .dataframe thead th {\n",
              "        text-align: right;\n",
              "    }\n",
              "</style>\n",
              "<table border=\"1\" class=\"dataframe\">\n",
              "  <thead>\n",
              "    <tr style=\"text-align: right;\">\n",
              "      <th></th>\n",
              "      <th>상추</th>\n",
              "      <th>DAT</th>\n",
              "      <th>predicted_weight_g</th>\n",
              "    </tr>\n",
              "  </thead>\n",
              "  <tbody>\n",
              "    <tr>\n",
              "      <th>0</th>\n",
              "      <td>case29</td>\n",
              "      <td>1</td>\n",
              "      <td>0.813686</td>\n",
              "    </tr>\n",
              "    <tr>\n",
              "      <th>1</th>\n",
              "      <td>case29</td>\n",
              "      <td>2</td>\n",
              "      <td>0.883332</td>\n",
              "    </tr>\n",
              "    <tr>\n",
              "      <th>2</th>\n",
              "      <td>case29</td>\n",
              "      <td>3</td>\n",
              "      <td>1.646488</td>\n",
              "    </tr>\n",
              "    <tr>\n",
              "      <th>3</th>\n",
              "      <td>case29</td>\n",
              "      <td>4</td>\n",
              "      <td>1.656330</td>\n",
              "    </tr>\n",
              "    <tr>\n",
              "      <th>4</th>\n",
              "      <td>case29</td>\n",
              "      <td>5</td>\n",
              "      <td>2.483429</td>\n",
              "    </tr>\n",
              "    <tr>\n",
              "      <th>...</th>\n",
              "      <td>...</td>\n",
              "      <td>...</td>\n",
              "      <td>...</td>\n",
              "    </tr>\n",
              "    <tr>\n",
              "      <th>135</th>\n",
              "      <td>case33</td>\n",
              "      <td>24</td>\n",
              "      <td>36.541675</td>\n",
              "    </tr>\n",
              "    <tr>\n",
              "      <th>136</th>\n",
              "      <td>case33</td>\n",
              "      <td>25</td>\n",
              "      <td>43.178133</td>\n",
              "    </tr>\n",
              "    <tr>\n",
              "      <th>137</th>\n",
              "      <td>case33</td>\n",
              "      <td>26</td>\n",
              "      <td>61.473869</td>\n",
              "    </tr>\n",
              "    <tr>\n",
              "      <th>138</th>\n",
              "      <td>case33</td>\n",
              "      <td>27</td>\n",
              "      <td>58.160678</td>\n",
              "    </tr>\n",
              "    <tr>\n",
              "      <th>139</th>\n",
              "      <td>case33</td>\n",
              "      <td>28</td>\n",
              "      <td>74.535095</td>\n",
              "    </tr>\n",
              "  </tbody>\n",
              "</table>\n",
              "<p>140 rows × 3 columns</p>\n",
              "</div>\n",
              "      <button class=\"colab-df-convert\" onclick=\"convertToInteractive('df-2c34a15a-5a66-4221-af34-caa5119cd72a')\"\n",
              "              title=\"Convert this dataframe to an interactive table.\"\n",
              "              style=\"display:none;\">\n",
              "        \n",
              "  <svg xmlns=\"http://www.w3.org/2000/svg\" height=\"24px\"viewBox=\"0 0 24 24\"\n",
              "       width=\"24px\">\n",
              "    <path d=\"M0 0h24v24H0V0z\" fill=\"none\"/>\n",
              "    <path d=\"M18.56 5.44l.94 2.06.94-2.06 2.06-.94-2.06-.94-.94-2.06-.94 2.06-2.06.94zm-11 1L8.5 8.5l.94-2.06 2.06-.94-2.06-.94L8.5 2.5l-.94 2.06-2.06.94zm10 10l.94 2.06.94-2.06 2.06-.94-2.06-.94-.94-2.06-.94 2.06-2.06.94z\"/><path d=\"M17.41 7.96l-1.37-1.37c-.4-.4-.92-.59-1.43-.59-.52 0-1.04.2-1.43.59L10.3 9.45l-7.72 7.72c-.78.78-.78 2.05 0 2.83L4 21.41c.39.39.9.59 1.41.59.51 0 1.02-.2 1.41-.59l7.78-7.78 2.81-2.81c.8-.78.8-2.07 0-2.86zM5.41 20L4 18.59l7.72-7.72 1.47 1.35L5.41 20z\"/>\n",
              "  </svg>\n",
              "      </button>\n",
              "      \n",
              "  <style>\n",
              "    .colab-df-container {\n",
              "      display:flex;\n",
              "      flex-wrap:wrap;\n",
              "      gap: 12px;\n",
              "    }\n",
              "\n",
              "    .colab-df-convert {\n",
              "      background-color: #E8F0FE;\n",
              "      border: none;\n",
              "      border-radius: 50%;\n",
              "      cursor: pointer;\n",
              "      display: none;\n",
              "      fill: #1967D2;\n",
              "      height: 32px;\n",
              "      padding: 0 0 0 0;\n",
              "      width: 32px;\n",
              "    }\n",
              "\n",
              "    .colab-df-convert:hover {\n",
              "      background-color: #E2EBFA;\n",
              "      box-shadow: 0px 1px 2px rgba(60, 64, 67, 0.3), 0px 1px 3px 1px rgba(60, 64, 67, 0.15);\n",
              "      fill: #174EA6;\n",
              "    }\n",
              "\n",
              "    [theme=dark] .colab-df-convert {\n",
              "      background-color: #3B4455;\n",
              "      fill: #D2E3FC;\n",
              "    }\n",
              "\n",
              "    [theme=dark] .colab-df-convert:hover {\n",
              "      background-color: #434B5C;\n",
              "      box-shadow: 0px 1px 3px 1px rgba(0, 0, 0, 0.15);\n",
              "      filter: drop-shadow(0px 1px 2px rgba(0, 0, 0, 0.3));\n",
              "      fill: #FFFFFF;\n",
              "    }\n",
              "  </style>\n",
              "\n",
              "      <script>\n",
              "        const buttonEl =\n",
              "          document.querySelector('#df-2c34a15a-5a66-4221-af34-caa5119cd72a button.colab-df-convert');\n",
              "        buttonEl.style.display =\n",
              "          google.colab.kernel.accessAllowed ? 'block' : 'none';\n",
              "\n",
              "        async function convertToInteractive(key) {\n",
              "          const element = document.querySelector('#df-2c34a15a-5a66-4221-af34-caa5119cd72a');\n",
              "          const dataTable =\n",
              "            await google.colab.kernel.invokeFunction('convertToInteractive',\n",
              "                                                     [key], {});\n",
              "          if (!dataTable) return;\n",
              "\n",
              "          const docLinkHtml = 'Like what you see? Visit the ' +\n",
              "            '<a target=\"_blank\" href=https://colab.research.google.com/notebooks/data_table.ipynb>data table notebook</a>'\n",
              "            + ' to learn more about interactive tables.';\n",
              "          element.innerHTML = '';\n",
              "          dataTable['output_type'] = 'display_data';\n",
              "          await google.colab.output.renderOutput(dataTable, element);\n",
              "          const docLink = document.createElement('div');\n",
              "          docLink.innerHTML = docLinkHtml;\n",
              "          element.appendChild(docLink);\n",
              "        }\n",
              "      </script>\n",
              "    </div>\n",
              "  </div>\n",
              "  "
            ],
            "text/plain": [
              "         상추  DAT  predicted_weight_g\n",
              "0    case29    1            0.813686\n",
              "1    case29    2            0.883332\n",
              "2    case29    3            1.646488\n",
              "3    case29    4            1.656330\n",
              "4    case29    5            2.483429\n",
              "..      ...  ...                 ...\n",
              "135  case33   24           36.541675\n",
              "136  case33   25           43.178133\n",
              "137  case33   26           61.473869\n",
              "138  case33   27           58.160678\n",
              "139  case33   28           74.535095\n",
              "\n",
              "[140 rows x 3 columns]"
            ]
          },
          "execution_count": 68,
          "metadata": {},
          "output_type": "execute_result"
        }
      ],
      "source": [
        "Y_test['생육일별_잎_중량'] = final_pred_sub_gb\n",
        "Y_test = Y_test.rename(columns={'생육일':'DAT', '생육일별_잎_중량':'predicted_weight_g'})\n",
        "Y_test"
      ]
    },
    {
      "cell_type": "code",
      "execution_count": null,
      "metadata": {
        "id": "hvSE0JWs07Ah"
      },
      "outputs": [],
      "source": [
        "for i in range(5):\n",
        "  submission = Y_test[i*28:(i*28)+28]\n",
        "  submission.to_csv(\"TEST_0\" + str(i+1) + \".csv\", mode='w', index=False)\n",
        "\n",
        "import zipfile\n",
        "path = \"/content/drive/MyDrive/01.Competition/03.Create_lettuce_growing_environment_AI/my_submission/09_9type_model/\"\n",
        "file_list = ['TEST_01.csv', 'TEST_02.csv', 'TEST_03.csv', 'TEST_04.csv', 'TEST_05.csv']\n",
        "with zipfile.ZipFile(path + \"GradientBoostingRegressor_1218_83(light_delete).zip\", 'w') as my_zip:\n",
        "    for i in file_list:\n",
        "        my_zip.write(i)\n",
        "    my_zip.close()\n",
        "\n",
        "Y_test = Y_test.drop(['predicted_weight_g'], axis=1)"
      ]
    },
    {
      "cell_type": "markdown",
      "metadata": {
        "id": "68p15f3kyWvl"
      },
      "source": [
        "## XGBRegressor"
      ]
    },
    {
      "cell_type": "code",
      "execution_count": null,
      "metadata": {
        "colab": {
          "base_uri": "https://localhost:8080/"
        },
        "id": "tV3xlza4u110",
        "outputId": "5bfc0ab2-7d94-4246-9fd1-9bfdabc7aba8"
      },
      "outputs": [
        {
          "name": "stdout",
          "output_type": "stream",
          "text": [
            "XGBRegressor score: 0.4532 (0.0715)\n"
          ]
        }
      ],
      "source": [
        "model_xgb = xgb.XGBRegressor(colsample_bytree=0.4603, \n",
        "                             gamma=0.0468, \n",
        "                             learning_rate=0.05, \n",
        "                             max_depth=3, \n",
        "                             min_child_weight=1.7817, \n",
        "                             n_estimators=2200,\n",
        "                             reg_alpha=0.4640, \n",
        "                             reg_lambda=0.8571,\n",
        "                             subsample=0.5213, \n",
        "                             silent=1,\n",
        "                             random_state =7, \n",
        "                             nthread = -1)\n",
        "\n",
        "score = rmsle_cv(model_xgb)\n",
        "xgb_score = score.mean()\n",
        "print(\"XGBRegressor score: {:.4f} ({:.4f})\".format(score.mean(), score.std()))"
      ]
    },
    {
      "cell_type": "code",
      "execution_count": null,
      "metadata": {
        "id": "TUy6ol_IxQKY"
      },
      "outputs": [],
      "source": [
        "model_xgb.fit(X_train, Y_train)"
      ]
    },
    {
      "cell_type": "code",
      "execution_count": null,
      "metadata": {
        "id": "qXQkjCAwxQHC"
      },
      "outputs": [],
      "source": [
        "pred_xgb = model_xgb.predict(X_test.values)\n",
        "final_pred_sub_xgb = np.expm1(pred_xgb)\n",
        "final_pred_sub_xgb"
      ]
    },
    {
      "cell_type": "code",
      "execution_count": null,
      "metadata": {
        "id": "RNIvkhcO0zCL"
      },
      "outputs": [],
      "source": [
        "Y_test['생육일별_잎_중량'] = final_pred_sub_xgb\n",
        "Y_test = Y_test.rename(columns={'생육일':'DAT', '생육일별_잎_중량':'predicted_weight_g'})\n",
        "Y_test"
      ]
    },
    {
      "cell_type": "code",
      "execution_count": null,
      "metadata": {
        "id": "Z_SXP16R0y7_"
      },
      "outputs": [],
      "source": [
        "for i in range(5):\n",
        "  submission = Y_test[i*28:(i*28)+28]\n",
        "  submission.to_csv(\"TEST_0\" + str(i+1) + \".csv\", mode='w', index=False)\n",
        "\n",
        "import zipfile\n",
        "path = \"/content/drive/MyDrive/01.Competition/03.Create_lettuce_growing_environment_AI/my_submission/09_9type_model/\"\n",
        "file_list = ['TEST_01.csv', 'TEST_02.csv', 'TEST_03.csv', 'TEST_04.csv', 'TEST_05.csv']\n",
        "with zipfile.ZipFile(path + \"XGBRegressor_1218_80(light_delete).zip\", 'w') as my_zip:\n",
        "    for i in file_list:\n",
        "        my_zip.write(i)\n",
        "    my_zip.close()\n",
        "\n",
        "Y_test = Y_test.drop(['predicted_weight_g'], axis=1)"
      ]
    },
    {
      "cell_type": "markdown",
      "metadata": {
        "id": "yK1FeEkiyZH5"
      },
      "source": [
        "## LGBMRegressor"
      ]
    },
    {
      "cell_type": "code",
      "execution_count": null,
      "metadata": {
        "colab": {
          "base_uri": "https://localhost:8080/"
        },
        "id": "vzncMywyv42C",
        "outputId": "f0486a99-11f3-4356-99d6-dbbb0d3ddd21"
      },
      "outputs": [
        {
          "name": "stdout",
          "output_type": "stream",
          "text": [
            "LGBMRegressor score: 0.4501 (0.0697)\n"
          ]
        }
      ],
      "source": [
        "# Kfold Train\n",
        "\n",
        "model_lgb = lgb.LGBMRegressor(objective='regression',\n",
        "                              num_leaves=5,\n",
        "                              learning_rate=0.05, \n",
        "                              n_estimators=720,\n",
        "                              max_bin = 55, \n",
        "                              bagging_fraction = 0.8,\n",
        "                              bagging_freq = 5, \n",
        "                              feature_fraction = 0.2319,\n",
        "                              feature_fraction_seed=9, \n",
        "                              bagging_seed=9,\n",
        "                              min_data_in_leaf =6, \n",
        "                              min_sum_hessian_in_leaf = 11)\n",
        "\n",
        "score = rmsle_cv(model_lgb)\n",
        "lgb_score = score.mean()\n",
        "print(\"LGBMRegressor score: {:.4f} ({:.4f})\".format(score.mean(), score.std()))"
      ]
    },
    {
      "cell_type": "code",
      "execution_count": null,
      "metadata": {
        "colab": {
          "base_uri": "https://localhost:8080/"
        },
        "id": "sbv9zh2FuPX9",
        "outputId": "20df8770-b353-4ae8-9232-12a160c12603"
      },
      "outputs": [
        {
          "data": {
            "text/plain": [
              "LGBMRegressor(bagging_fraction=0.8, bagging_freq=5, bagging_seed=9,\n",
              "              feature_fraction=0.2319, feature_fraction_seed=9,\n",
              "              learning_rate=0.05, max_bin=55, min_data_in_leaf=6,\n",
              "              min_sum_hessian_in_leaf=11, n_estimators=720, num_leaves=5,\n",
              "              objective='regression')"
            ]
          },
          "execution_count": 76,
          "metadata": {},
          "output_type": "execute_result"
        }
      ],
      "source": [
        "model_lgb.fit(X_train, Y_train)"
      ]
    },
    {
      "cell_type": "code",
      "execution_count": null,
      "metadata": {
        "colab": {
          "base_uri": "https://localhost:8080/"
        },
        "id": "192kdd09uPTw",
        "outputId": "e767fea5-b71a-4a9a-c3a0-70cc734ef753"
      },
      "outputs": [
        {
          "data": {
            "text/plain": [
              "array([  0.58906448,   0.81256838,   1.39491692,   1.72381276,\n",
              "         2.43908887,   3.47707017,   3.74691549,   4.85933703,\n",
              "         5.93766632,   6.69482059,  10.23001896,  12.90112853,\n",
              "        20.36917458,  19.84468326,  16.1954233 ,  32.10623207,\n",
              "        29.81622758,  26.26443285,  26.02653331,  33.56350393,\n",
              "        49.91853405,  54.89998322,  98.88933734,  82.51337367,\n",
              "        86.04367771,  93.85060742,  89.09286677,  97.03209246,\n",
              "         0.56875325,   1.1568685 ,   1.57844548,   1.70790818,\n",
              "         1.91731647,   2.70552323,   3.72282631,   3.93250071,\n",
              "         4.11104294,   4.57186882,   5.53882615,   8.01553083,\n",
              "         9.80505121,   8.92002868,  11.46910225,  12.96718716,\n",
              "        16.68622272,  15.82699548,  17.25531368,  19.37615587,\n",
              "        29.60016421,  26.10192768,  31.23047569,  38.95885513,\n",
              "        37.3123827 ,  35.94811438,  37.80593687,  48.73607751,\n",
              "         1.10642518,   0.8794584 ,   1.15998267,   1.80785214,\n",
              "         1.74008124,   2.8380157 ,   2.84146316,   3.48080332,\n",
              "         4.16432454,   4.11812015,   5.21094126,   6.69873521,\n",
              "         7.56779455,   8.90846389,  10.52114903,  10.53655915,\n",
              "        10.54156625,   9.18084364,   9.4178651 ,  10.80102063,\n",
              "        12.22446941,  14.095282  ,  15.36710632,  16.17080465,\n",
              "        18.11399329,  20.67931715,  19.7007667 ,  20.40127716,\n",
              "         0.34983455,   1.08439439,   1.06903498,   1.69753171,\n",
              "         2.43051161,   2.99141558,   4.20482859,   4.15507648,\n",
              "         5.87453666,   7.09585993,   8.54892582,  13.12847183,\n",
              "        17.72587458,  17.28352953,  19.56635386,  23.32713048,\n",
              "        29.56144393,  29.39419688,  28.2273134 ,  34.18232553,\n",
              "        45.93350712,  61.12784995,  79.3479146 ,  91.11880364,\n",
              "        87.12807403,  99.27706399,  95.29523692, 113.61003489,\n",
              "         0.35690725,   1.06008649,   0.97221421,   1.51204969,\n",
              "         1.52174587,   2.7788665 ,   3.21213905,   3.27479926,\n",
              "         4.45145653,   5.18420165,   7.06916613,   7.69482686,\n",
              "         9.76918503,  11.8958569 ,  18.8718715 ,  14.76243572,\n",
              "        13.56173852,  19.73699405,  20.61697917,  20.99124893,\n",
              "        26.54905743,  33.46062356,  41.80345184,  46.90841726,\n",
              "        54.55293862,  58.44738108,  57.40877681,  67.44324171])"
            ]
          },
          "execution_count": 77,
          "metadata": {},
          "output_type": "execute_result"
        }
      ],
      "source": [
        "pred_lgb = model_lgb.predict(X_test)\n",
        "final_pred_sub_lgb = np.expm1(pred_lgb)\n",
        "final_pred_sub_lgb"
      ]
    },
    {
      "cell_type": "code",
      "execution_count": null,
      "metadata": {
        "colab": {
          "base_uri": "https://localhost:8080/",
          "height": 424
        },
        "id": "iz9qV0dq0uhq",
        "outputId": "e6274dfe-50e8-4b19-d477-73d018da49d3"
      },
      "outputs": [
        {
          "data": {
            "text/html": [
              "\n",
              "  <div id=\"df-fac4976e-73e0-41aa-aa2f-474ce066b5b9\">\n",
              "    <div class=\"colab-df-container\">\n",
              "      <div>\n",
              "<style scoped>\n",
              "    .dataframe tbody tr th:only-of-type {\n",
              "        vertical-align: middle;\n",
              "    }\n",
              "\n",
              "    .dataframe tbody tr th {\n",
              "        vertical-align: top;\n",
              "    }\n",
              "\n",
              "    .dataframe thead th {\n",
              "        text-align: right;\n",
              "    }\n",
              "</style>\n",
              "<table border=\"1\" class=\"dataframe\">\n",
              "  <thead>\n",
              "    <tr style=\"text-align: right;\">\n",
              "      <th></th>\n",
              "      <th>상추</th>\n",
              "      <th>DAT</th>\n",
              "      <th>predicted_weight_g</th>\n",
              "    </tr>\n",
              "  </thead>\n",
              "  <tbody>\n",
              "    <tr>\n",
              "      <th>0</th>\n",
              "      <td>case29</td>\n",
              "      <td>1</td>\n",
              "      <td>0.589064</td>\n",
              "    </tr>\n",
              "    <tr>\n",
              "      <th>1</th>\n",
              "      <td>case29</td>\n",
              "      <td>2</td>\n",
              "      <td>0.812568</td>\n",
              "    </tr>\n",
              "    <tr>\n",
              "      <th>2</th>\n",
              "      <td>case29</td>\n",
              "      <td>3</td>\n",
              "      <td>1.394917</td>\n",
              "    </tr>\n",
              "    <tr>\n",
              "      <th>3</th>\n",
              "      <td>case29</td>\n",
              "      <td>4</td>\n",
              "      <td>1.723813</td>\n",
              "    </tr>\n",
              "    <tr>\n",
              "      <th>4</th>\n",
              "      <td>case29</td>\n",
              "      <td>5</td>\n",
              "      <td>2.439089</td>\n",
              "    </tr>\n",
              "    <tr>\n",
              "      <th>...</th>\n",
              "      <td>...</td>\n",
              "      <td>...</td>\n",
              "      <td>...</td>\n",
              "    </tr>\n",
              "    <tr>\n",
              "      <th>135</th>\n",
              "      <td>case33</td>\n",
              "      <td>24</td>\n",
              "      <td>46.908417</td>\n",
              "    </tr>\n",
              "    <tr>\n",
              "      <th>136</th>\n",
              "      <td>case33</td>\n",
              "      <td>25</td>\n",
              "      <td>54.552939</td>\n",
              "    </tr>\n",
              "    <tr>\n",
              "      <th>137</th>\n",
              "      <td>case33</td>\n",
              "      <td>26</td>\n",
              "      <td>58.447381</td>\n",
              "    </tr>\n",
              "    <tr>\n",
              "      <th>138</th>\n",
              "      <td>case33</td>\n",
              "      <td>27</td>\n",
              "      <td>57.408777</td>\n",
              "    </tr>\n",
              "    <tr>\n",
              "      <th>139</th>\n",
              "      <td>case33</td>\n",
              "      <td>28</td>\n",
              "      <td>67.443242</td>\n",
              "    </tr>\n",
              "  </tbody>\n",
              "</table>\n",
              "<p>140 rows × 3 columns</p>\n",
              "</div>\n",
              "      <button class=\"colab-df-convert\" onclick=\"convertToInteractive('df-fac4976e-73e0-41aa-aa2f-474ce066b5b9')\"\n",
              "              title=\"Convert this dataframe to an interactive table.\"\n",
              "              style=\"display:none;\">\n",
              "        \n",
              "  <svg xmlns=\"http://www.w3.org/2000/svg\" height=\"24px\"viewBox=\"0 0 24 24\"\n",
              "       width=\"24px\">\n",
              "    <path d=\"M0 0h24v24H0V0z\" fill=\"none\"/>\n",
              "    <path d=\"M18.56 5.44l.94 2.06.94-2.06 2.06-.94-2.06-.94-.94-2.06-.94 2.06-2.06.94zm-11 1L8.5 8.5l.94-2.06 2.06-.94-2.06-.94L8.5 2.5l-.94 2.06-2.06.94zm10 10l.94 2.06.94-2.06 2.06-.94-2.06-.94-.94-2.06-.94 2.06-2.06.94z\"/><path d=\"M17.41 7.96l-1.37-1.37c-.4-.4-.92-.59-1.43-.59-.52 0-1.04.2-1.43.59L10.3 9.45l-7.72 7.72c-.78.78-.78 2.05 0 2.83L4 21.41c.39.39.9.59 1.41.59.51 0 1.02-.2 1.41-.59l7.78-7.78 2.81-2.81c.8-.78.8-2.07 0-2.86zM5.41 20L4 18.59l7.72-7.72 1.47 1.35L5.41 20z\"/>\n",
              "  </svg>\n",
              "      </button>\n",
              "      \n",
              "  <style>\n",
              "    .colab-df-container {\n",
              "      display:flex;\n",
              "      flex-wrap:wrap;\n",
              "      gap: 12px;\n",
              "    }\n",
              "\n",
              "    .colab-df-convert {\n",
              "      background-color: #E8F0FE;\n",
              "      border: none;\n",
              "      border-radius: 50%;\n",
              "      cursor: pointer;\n",
              "      display: none;\n",
              "      fill: #1967D2;\n",
              "      height: 32px;\n",
              "      padding: 0 0 0 0;\n",
              "      width: 32px;\n",
              "    }\n",
              "\n",
              "    .colab-df-convert:hover {\n",
              "      background-color: #E2EBFA;\n",
              "      box-shadow: 0px 1px 2px rgba(60, 64, 67, 0.3), 0px 1px 3px 1px rgba(60, 64, 67, 0.15);\n",
              "      fill: #174EA6;\n",
              "    }\n",
              "\n",
              "    [theme=dark] .colab-df-convert {\n",
              "      background-color: #3B4455;\n",
              "      fill: #D2E3FC;\n",
              "    }\n",
              "\n",
              "    [theme=dark] .colab-df-convert:hover {\n",
              "      background-color: #434B5C;\n",
              "      box-shadow: 0px 1px 3px 1px rgba(0, 0, 0, 0.15);\n",
              "      filter: drop-shadow(0px 1px 2px rgba(0, 0, 0, 0.3));\n",
              "      fill: #FFFFFF;\n",
              "    }\n",
              "  </style>\n",
              "\n",
              "      <script>\n",
              "        const buttonEl =\n",
              "          document.querySelector('#df-fac4976e-73e0-41aa-aa2f-474ce066b5b9 button.colab-df-convert');\n",
              "        buttonEl.style.display =\n",
              "          google.colab.kernel.accessAllowed ? 'block' : 'none';\n",
              "\n",
              "        async function convertToInteractive(key) {\n",
              "          const element = document.querySelector('#df-fac4976e-73e0-41aa-aa2f-474ce066b5b9');\n",
              "          const dataTable =\n",
              "            await google.colab.kernel.invokeFunction('convertToInteractive',\n",
              "                                                     [key], {});\n",
              "          if (!dataTable) return;\n",
              "\n",
              "          const docLinkHtml = 'Like what you see? Visit the ' +\n",
              "            '<a target=\"_blank\" href=https://colab.research.google.com/notebooks/data_table.ipynb>data table notebook</a>'\n",
              "            + ' to learn more about interactive tables.';\n",
              "          element.innerHTML = '';\n",
              "          dataTable['output_type'] = 'display_data';\n",
              "          await google.colab.output.renderOutput(dataTable, element);\n",
              "          const docLink = document.createElement('div');\n",
              "          docLink.innerHTML = docLinkHtml;\n",
              "          element.appendChild(docLink);\n",
              "        }\n",
              "      </script>\n",
              "    </div>\n",
              "  </div>\n",
              "  "
            ],
            "text/plain": [
              "         상추  DAT  predicted_weight_g\n",
              "0    case29    1            0.589064\n",
              "1    case29    2            0.812568\n",
              "2    case29    3            1.394917\n",
              "3    case29    4            1.723813\n",
              "4    case29    5            2.439089\n",
              "..      ...  ...                 ...\n",
              "135  case33   24           46.908417\n",
              "136  case33   25           54.552939\n",
              "137  case33   26           58.447381\n",
              "138  case33   27           57.408777\n",
              "139  case33   28           67.443242\n",
              "\n",
              "[140 rows x 3 columns]"
            ]
          },
          "execution_count": 78,
          "metadata": {},
          "output_type": "execute_result"
        }
      ],
      "source": [
        "Y_test['생육일별_잎_중량'] = final_pred_sub_lgb\n",
        "Y_test = Y_test.rename(columns={'생육일':'DAT', '생육일별_잎_중량':'predicted_weight_g'})\n",
        "Y_test"
      ]
    },
    {
      "cell_type": "code",
      "execution_count": null,
      "metadata": {
        "id": "sXuqieEu0cZz"
      },
      "outputs": [],
      "source": [
        "for i in range(5):\n",
        "  submission = Y_test[i*28:(i*28)+28]\n",
        "  submission.to_csv(\"TEST_0\" + str(i+1) + \".csv\", mode='w', index=False)\n",
        "\n",
        "import zipfile\n",
        "path = \"/content/drive/MyDrive/01.Competition/03.Create_lettuce_growing_environment_AI/my_submission/09_9type_model/\"\n",
        "file_list = ['TEST_01.csv', 'TEST_02.csv', 'TEST_03.csv', 'TEST_04.csv', 'TEST_05.csv']\n",
        "with zipfile.ZipFile(path + \"LGBMRegressor_1218_84(light_delete).zip\", 'w') as my_zip:\n",
        "    for i in file_list:\n",
        "        my_zip.write(i)\n",
        "    my_zip.close()\n",
        "\n",
        "Y_test = Y_test.drop(['predicted_weight_g'], axis=1)"
      ]
    },
    {
      "cell_type": "markdown",
      "metadata": {
        "id": "tbey1rWVylEl"
      },
      "source": [
        "## RandomForestRegressor"
      ]
    },
    {
      "cell_type": "code",
      "execution_count": null,
      "metadata": {
        "colab": {
          "base_uri": "https://localhost:8080/"
        },
        "id": "2nzVRr-QyLXm",
        "outputId": "b917dd3c-6230-4cd6-bd90-e2d9d59e4ff9"
      },
      "outputs": [
        {
          "name": "stdout",
          "output_type": "stream",
          "text": [
            "RandomForestRegressor score: 0.5297 (0.1579)\n"
          ]
        }
      ],
      "source": [
        "model_rf = RandomForestRegressor(n_estimators=3000,\n",
        "                                 max_depth=4, \n",
        "                                 max_features='sqrt',\n",
        "                                 min_samples_leaf=15, \n",
        "                                 min_samples_split=10)\n",
        "\n",
        "score = rmsle_cv(model_rf)\n",
        "print(\"RandomForestRegressor score: {:.4f} ({:.4f})\".format(score.mean(), score.std()))"
      ]
    },
    {
      "cell_type": "code",
      "execution_count": null,
      "metadata": {
        "colab": {
          "base_uri": "https://localhost:8080/"
        },
        "id": "YncRx6sKyLR7",
        "outputId": "d4f4b6c3-855b-4c2b-96d3-c28caf22bbc8"
      },
      "outputs": [
        {
          "data": {
            "text/plain": [
              "RandomForestRegressor(max_depth=4, max_features='sqrt', min_samples_leaf=15,\n",
              "                      min_samples_split=10, n_estimators=3000)"
            ]
          },
          "execution_count": 128,
          "metadata": {},
          "output_type": "execute_result"
        }
      ],
      "source": [
        "model_rf.fit(X_train, Y_train)"
      ]
    },
    {
      "cell_type": "code",
      "execution_count": null,
      "metadata": {
        "colab": {
          "base_uri": "https://localhost:8080/"
        },
        "id": "G86SUnbHyLOm",
        "outputId": "aa3137e3-6e00-4f11-9d99-adfe00f08519"
      },
      "outputs": [
        {
          "data": {
            "text/plain": [
              "array([ 1.35977269,  1.33441878,  1.44907041,  1.64865175,  2.01553765,\n",
              "        2.98347949,  4.08512031,  4.96559064,  5.6714526 ,  6.39194149,\n",
              "        7.45328537,  9.00819281, 21.57543213, 18.75980854, 17.23164363,\n",
              "       29.4302315 , 27.33436053, 25.11819701, 27.06489695, 36.64290066,\n",
              "       47.68328869, 50.28891766, 57.02946916, 71.07508723, 70.68518908,\n",
              "       74.44053569, 76.73298616, 74.08979119,  1.17244909,  1.31808964,\n",
              "        1.40814172,  1.57277349,  1.79927374,  2.90719817,  3.9231201 ,\n",
              "        4.66023657,  5.23053523,  5.88549576,  6.83906008,  7.94877852,\n",
              "       10.30263329, 12.92638421, 15.27487766, 16.51712112, 18.12143358,\n",
              "       20.18454559, 22.85632646, 28.78015378, 41.44028302, 42.6172986 ,\n",
              "       44.12967101, 48.71591552, 47.02706285, 47.20597405, 49.27838154,\n",
              "       52.24028297,  1.68805157,  1.49650458,  1.59656761,  1.93468779,\n",
              "        2.31071142,  3.24424288,  4.01947958,  4.89463105,  5.26858026,\n",
              "        5.98526247,  6.98022747,  8.03950367, 10.19129683, 12.47895914,\n",
              "       14.32859712, 15.76426913, 17.39925255, 19.626902  , 23.34830901,\n",
              "       28.88085048, 35.93037963, 39.88793606, 40.65621049, 43.36596561,\n",
              "       44.32656713, 44.57502056, 44.77194602, 44.44434853,  1.18545114,\n",
              "        1.40089267,  1.375596  ,  1.516499  ,  1.93452921,  2.9446722 ,\n",
              "        3.91345395,  4.70598331,  5.26934044,  5.98807396,  7.11773064,\n",
              "        8.60365449, 19.41111112, 17.01612252, 16.6911941 , 21.65626582,\n",
              "       22.62798607, 23.30452514, 25.83031681, 34.02328659, 43.98768934,\n",
              "       48.64586224, 54.72727237, 71.24353186, 67.35618248, 73.48562353,\n",
              "       75.10599586, 74.10359605,  1.26705298,  1.78630978,  1.72824182,\n",
              "        1.94235184,  2.33516853,  2.93083781,  4.54047964,  5.23407728,\n",
              "        6.7768223 ,  7.21988657,  6.77958835,  7.92031871, 10.2882471 ,\n",
              "       15.6977932 , 20.86250712, 16.85328833, 18.19222045, 20.46011972,\n",
              "       23.67722181, 29.21419598, 37.07624457, 45.0568442 , 51.41135467,\n",
              "       50.98770783, 59.60252454, 66.88971916, 63.22878404, 69.1386972 ])"
            ]
          },
          "execution_count": 129,
          "metadata": {},
          "output_type": "execute_result"
        }
      ],
      "source": [
        "pred_rf = model_rf.predict(X_test)\n",
        "final_pred_sub_rf = np.expm1(pred_rf)\n",
        "final_pred_sub_rf"
      ]
    },
    {
      "cell_type": "code",
      "execution_count": null,
      "metadata": {
        "colab": {
          "base_uri": "https://localhost:8080/",
          "height": 424
        },
        "id": "CYLvtCLJ1HSk",
        "outputId": "c096775a-5696-4e62-d590-1e823618dc84"
      },
      "outputs": [
        {
          "data": {
            "text/html": [
              "\n",
              "  <div id=\"df-9cc1091c-ed85-4ba9-9c97-f98b45104644\">\n",
              "    <div class=\"colab-df-container\">\n",
              "      <div>\n",
              "<style scoped>\n",
              "    .dataframe tbody tr th:only-of-type {\n",
              "        vertical-align: middle;\n",
              "    }\n",
              "\n",
              "    .dataframe tbody tr th {\n",
              "        vertical-align: top;\n",
              "    }\n",
              "\n",
              "    .dataframe thead th {\n",
              "        text-align: right;\n",
              "    }\n",
              "</style>\n",
              "<table border=\"1\" class=\"dataframe\">\n",
              "  <thead>\n",
              "    <tr style=\"text-align: right;\">\n",
              "      <th></th>\n",
              "      <th>상추</th>\n",
              "      <th>DAT</th>\n",
              "      <th>predicted_weight_g</th>\n",
              "    </tr>\n",
              "  </thead>\n",
              "  <tbody>\n",
              "    <tr>\n",
              "      <th>0</th>\n",
              "      <td>case29</td>\n",
              "      <td>1</td>\n",
              "      <td>1.359773</td>\n",
              "    </tr>\n",
              "    <tr>\n",
              "      <th>1</th>\n",
              "      <td>case29</td>\n",
              "      <td>2</td>\n",
              "      <td>1.334419</td>\n",
              "    </tr>\n",
              "    <tr>\n",
              "      <th>2</th>\n",
              "      <td>case29</td>\n",
              "      <td>3</td>\n",
              "      <td>1.449070</td>\n",
              "    </tr>\n",
              "    <tr>\n",
              "      <th>3</th>\n",
              "      <td>case29</td>\n",
              "      <td>4</td>\n",
              "      <td>1.648652</td>\n",
              "    </tr>\n",
              "    <tr>\n",
              "      <th>4</th>\n",
              "      <td>case29</td>\n",
              "      <td>5</td>\n",
              "      <td>2.015538</td>\n",
              "    </tr>\n",
              "    <tr>\n",
              "      <th>...</th>\n",
              "      <td>...</td>\n",
              "      <td>...</td>\n",
              "      <td>...</td>\n",
              "    </tr>\n",
              "    <tr>\n",
              "      <th>135</th>\n",
              "      <td>case33</td>\n",
              "      <td>24</td>\n",
              "      <td>50.987708</td>\n",
              "    </tr>\n",
              "    <tr>\n",
              "      <th>136</th>\n",
              "      <td>case33</td>\n",
              "      <td>25</td>\n",
              "      <td>59.602525</td>\n",
              "    </tr>\n",
              "    <tr>\n",
              "      <th>137</th>\n",
              "      <td>case33</td>\n",
              "      <td>26</td>\n",
              "      <td>66.889719</td>\n",
              "    </tr>\n",
              "    <tr>\n",
              "      <th>138</th>\n",
              "      <td>case33</td>\n",
              "      <td>27</td>\n",
              "      <td>63.228784</td>\n",
              "    </tr>\n",
              "    <tr>\n",
              "      <th>139</th>\n",
              "      <td>case33</td>\n",
              "      <td>28</td>\n",
              "      <td>69.138697</td>\n",
              "    </tr>\n",
              "  </tbody>\n",
              "</table>\n",
              "<p>140 rows × 3 columns</p>\n",
              "</div>\n",
              "      <button class=\"colab-df-convert\" onclick=\"convertToInteractive('df-9cc1091c-ed85-4ba9-9c97-f98b45104644')\"\n",
              "              title=\"Convert this dataframe to an interactive table.\"\n",
              "              style=\"display:none;\">\n",
              "        \n",
              "  <svg xmlns=\"http://www.w3.org/2000/svg\" height=\"24px\"viewBox=\"0 0 24 24\"\n",
              "       width=\"24px\">\n",
              "    <path d=\"M0 0h24v24H0V0z\" fill=\"none\"/>\n",
              "    <path d=\"M18.56 5.44l.94 2.06.94-2.06 2.06-.94-2.06-.94-.94-2.06-.94 2.06-2.06.94zm-11 1L8.5 8.5l.94-2.06 2.06-.94-2.06-.94L8.5 2.5l-.94 2.06-2.06.94zm10 10l.94 2.06.94-2.06 2.06-.94-2.06-.94-.94-2.06-.94 2.06-2.06.94z\"/><path d=\"M17.41 7.96l-1.37-1.37c-.4-.4-.92-.59-1.43-.59-.52 0-1.04.2-1.43.59L10.3 9.45l-7.72 7.72c-.78.78-.78 2.05 0 2.83L4 21.41c.39.39.9.59 1.41.59.51 0 1.02-.2 1.41-.59l7.78-7.78 2.81-2.81c.8-.78.8-2.07 0-2.86zM5.41 20L4 18.59l7.72-7.72 1.47 1.35L5.41 20z\"/>\n",
              "  </svg>\n",
              "      </button>\n",
              "      \n",
              "  <style>\n",
              "    .colab-df-container {\n",
              "      display:flex;\n",
              "      flex-wrap:wrap;\n",
              "      gap: 12px;\n",
              "    }\n",
              "\n",
              "    .colab-df-convert {\n",
              "      background-color: #E8F0FE;\n",
              "      border: none;\n",
              "      border-radius: 50%;\n",
              "      cursor: pointer;\n",
              "      display: none;\n",
              "      fill: #1967D2;\n",
              "      height: 32px;\n",
              "      padding: 0 0 0 0;\n",
              "      width: 32px;\n",
              "    }\n",
              "\n",
              "    .colab-df-convert:hover {\n",
              "      background-color: #E2EBFA;\n",
              "      box-shadow: 0px 1px 2px rgba(60, 64, 67, 0.3), 0px 1px 3px 1px rgba(60, 64, 67, 0.15);\n",
              "      fill: #174EA6;\n",
              "    }\n",
              "\n",
              "    [theme=dark] .colab-df-convert {\n",
              "      background-color: #3B4455;\n",
              "      fill: #D2E3FC;\n",
              "    }\n",
              "\n",
              "    [theme=dark] .colab-df-convert:hover {\n",
              "      background-color: #434B5C;\n",
              "      box-shadow: 0px 1px 3px 1px rgba(0, 0, 0, 0.15);\n",
              "      filter: drop-shadow(0px 1px 2px rgba(0, 0, 0, 0.3));\n",
              "      fill: #FFFFFF;\n",
              "    }\n",
              "  </style>\n",
              "\n",
              "      <script>\n",
              "        const buttonEl =\n",
              "          document.querySelector('#df-9cc1091c-ed85-4ba9-9c97-f98b45104644 button.colab-df-convert');\n",
              "        buttonEl.style.display =\n",
              "          google.colab.kernel.accessAllowed ? 'block' : 'none';\n",
              "\n",
              "        async function convertToInteractive(key) {\n",
              "          const element = document.querySelector('#df-9cc1091c-ed85-4ba9-9c97-f98b45104644');\n",
              "          const dataTable =\n",
              "            await google.colab.kernel.invokeFunction('convertToInteractive',\n",
              "                                                     [key], {});\n",
              "          if (!dataTable) return;\n",
              "\n",
              "          const docLinkHtml = 'Like what you see? Visit the ' +\n",
              "            '<a target=\"_blank\" href=https://colab.research.google.com/notebooks/data_table.ipynb>data table notebook</a>'\n",
              "            + ' to learn more about interactive tables.';\n",
              "          element.innerHTML = '';\n",
              "          dataTable['output_type'] = 'display_data';\n",
              "          await google.colab.output.renderOutput(dataTable, element);\n",
              "          const docLink = document.createElement('div');\n",
              "          docLink.innerHTML = docLinkHtml;\n",
              "          element.appendChild(docLink);\n",
              "        }\n",
              "      </script>\n",
              "    </div>\n",
              "  </div>\n",
              "  "
            ],
            "text/plain": [
              "         상추  DAT  predicted_weight_g\n",
              "0    case29    1            1.359773\n",
              "1    case29    2            1.334419\n",
              "2    case29    3            1.449070\n",
              "3    case29    4            1.648652\n",
              "4    case29    5            2.015538\n",
              "..      ...  ...                 ...\n",
              "135  case33   24           50.987708\n",
              "136  case33   25           59.602525\n",
              "137  case33   26           66.889719\n",
              "138  case33   27           63.228784\n",
              "139  case33   28           69.138697\n",
              "\n",
              "[140 rows x 3 columns]"
            ]
          },
          "execution_count": 130,
          "metadata": {},
          "output_type": "execute_result"
        }
      ],
      "source": [
        "Y_test['생육일별_잎_중량'] = final_pred_sub_rf\n",
        "Y_test = Y_test.rename(columns={'생육일':'DAT', '생육일별_잎_중량':'predicted_weight_g'})\n",
        "Y_test"
      ]
    },
    {
      "cell_type": "code",
      "execution_count": null,
      "metadata": {
        "id": "ZFoEVW3Q1HK8"
      },
      "outputs": [],
      "source": [
        "for i in range(5):\n",
        "  submission = Y_test[i*28:(i*28)+28]\n",
        "  submission.to_csv(\"TEST_0\" + str(i+1) + \".csv\", mode='w', index=False)\n",
        "\n",
        "import zipfile\n",
        "path = \"/content/drive/MyDrive/01.Competition/03.Create_lettuce_growing_environment_AI/my_submission/09_9type_model/\"\n",
        "file_list = ['TEST_01.csv', 'TEST_02.csv', 'TEST_03.csv', 'TEST_04.csv', 'TEST_05.csv']\n",
        "with zipfile.ZipFile(path + \"RandomForestRegressor_1217_5.zip\", 'w') as my_zip:\n",
        "    for i in file_list:\n",
        "        my_zip.write(i)\n",
        "    my_zip.close()\n",
        "\n",
        "Y_test = Y_test.drop(['predicted_weight_g'], axis=1)"
      ]
    },
    {
      "cell_type": "markdown",
      "metadata": {
        "id": "i22dvy1XCRfX"
      },
      "source": [
        "## Linear Regression"
      ]
    },
    {
      "cell_type": "code",
      "execution_count": null,
      "metadata": {
        "colab": {
          "base_uri": "https://localhost:8080/"
        },
        "id": "A-ZvPvCzBXk9",
        "outputId": "95a0a08c-f97a-4a0f-e7d5-eac96ccf4ca2"
      },
      "outputs": [
        {
          "name": "stdout",
          "output_type": "stream",
          "text": [
            "LinearRegression score: 2.4778 (2.2563)\n"
          ]
        }
      ],
      "source": [
        "model_reg = LinearRegression(n_jobs=-1)\n",
        "\n",
        "score = rmsle_cv(model_reg)\n",
        "print(\"LinearRegression score: {:.4f} ({:.4f})\".format(score.mean(), score.std()))"
      ]
    },
    {
      "cell_type": "code",
      "execution_count": null,
      "metadata": {
        "colab": {
          "base_uri": "https://localhost:8080/"
        },
        "id": "Ql_HNhtICPj3",
        "outputId": "dd5ce3b5-f943-440b-cb57-a36deaf6c239"
      },
      "outputs": [
        {
          "data": {
            "text/plain": [
              "LinearRegression(n_jobs=-1)"
            ]
          },
          "execution_count": 21,
          "metadata": {},
          "output_type": "execute_result"
        }
      ],
      "source": [
        "model_reg.fit(X_train, Y_train)"
      ]
    },
    {
      "cell_type": "code",
      "execution_count": null,
      "metadata": {
        "id": "G9eqDt71ETWy"
      },
      "outputs": [],
      "source": [
        "pred_reg = model_reg.predict(X_test)\n",
        "final_pred_sub_reg = np.expm1(model_reg)\n",
        "final_pred_sub_reg"
      ]
    },
    {
      "cell_type": "code",
      "execution_count": null,
      "metadata": {
        "id": "ToTC6XKOEWp1"
      },
      "outputs": [],
      "source": [
        "Y_test['생육일별_잎_중량'] = final_pred_sub_reg\n",
        "Y_test = Y_test.rename(columns={'생육일':'DAT', '생육일별_잎_중량':'predicted_weight_g'})\n",
        "Y_test"
      ]
    },
    {
      "cell_type": "code",
      "execution_count": null,
      "metadata": {
        "colab": {
          "base_uri": "https://localhost:8080/",
          "height": 367
        },
        "id": "zExWE8jPDD_N",
        "outputId": "fe5a3424-654f-4c57-e7a7-abc2dd633c1b"
      },
      "outputs": [
        {
          "ename": "KeyError",
          "evalue": "ignored",
          "output_type": "error",
          "traceback": [
            "\u001b[0;31m---------------------------------------------------------------------------\u001b[0m",
            "\u001b[0;31mKeyError\u001b[0m                                  Traceback (most recent call last)",
            "\u001b[0;32m<ipython-input-22-c523636e6445>\u001b[0m in \u001b[0;36m<module>\u001b[0;34m\u001b[0m\n\u001b[1;32m     11\u001b[0m     \u001b[0mmy_zip\u001b[0m\u001b[0;34m.\u001b[0m\u001b[0mclose\u001b[0m\u001b[0;34m(\u001b[0m\u001b[0;34m)\u001b[0m\u001b[0;34m\u001b[0m\u001b[0;34m\u001b[0m\u001b[0m\n\u001b[1;32m     12\u001b[0m \u001b[0;34m\u001b[0m\u001b[0m\n\u001b[0;32m---> 13\u001b[0;31m \u001b[0mY_test\u001b[0m \u001b[0;34m=\u001b[0m \u001b[0mY_test\u001b[0m\u001b[0;34m.\u001b[0m\u001b[0mdrop\u001b[0m\u001b[0;34m(\u001b[0m\u001b[0;34m[\u001b[0m\u001b[0;34m'predicted_weight_g'\u001b[0m\u001b[0;34m]\u001b[0m\u001b[0;34m,\u001b[0m \u001b[0maxis\u001b[0m\u001b[0;34m=\u001b[0m\u001b[0;36m1\u001b[0m\u001b[0;34m)\u001b[0m\u001b[0;34m\u001b[0m\u001b[0;34m\u001b[0m\u001b[0m\n\u001b[0m",
            "\u001b[0;32m/usr/local/lib/python3.8/dist-packages/pandas/util/_decorators.py\u001b[0m in \u001b[0;36mwrapper\u001b[0;34m(*args, **kwargs)\u001b[0m\n\u001b[1;32m    309\u001b[0m                     \u001b[0mstacklevel\u001b[0m\u001b[0;34m=\u001b[0m\u001b[0mstacklevel\u001b[0m\u001b[0;34m,\u001b[0m\u001b[0;34m\u001b[0m\u001b[0;34m\u001b[0m\u001b[0m\n\u001b[1;32m    310\u001b[0m                 )\n\u001b[0;32m--> 311\u001b[0;31m             \u001b[0;32mreturn\u001b[0m \u001b[0mfunc\u001b[0m\u001b[0;34m(\u001b[0m\u001b[0;34m*\u001b[0m\u001b[0margs\u001b[0m\u001b[0;34m,\u001b[0m \u001b[0;34m**\u001b[0m\u001b[0mkwargs\u001b[0m\u001b[0;34m)\u001b[0m\u001b[0;34m\u001b[0m\u001b[0;34m\u001b[0m\u001b[0m\n\u001b[0m\u001b[1;32m    312\u001b[0m \u001b[0;34m\u001b[0m\u001b[0m\n\u001b[1;32m    313\u001b[0m         \u001b[0;32mreturn\u001b[0m \u001b[0mwrapper\u001b[0m\u001b[0;34m\u001b[0m\u001b[0;34m\u001b[0m\u001b[0m\n",
            "\u001b[0;32m/usr/local/lib/python3.8/dist-packages/pandas/core/frame.py\u001b[0m in \u001b[0;36mdrop\u001b[0;34m(self, labels, axis, index, columns, level, inplace, errors)\u001b[0m\n\u001b[1;32m   4904\u001b[0m                 \u001b[0mweight\u001b[0m  \u001b[0;36m1.0\u001b[0m     \u001b[0;36m0.8\u001b[0m\u001b[0;34m\u001b[0m\u001b[0;34m\u001b[0m\u001b[0m\n\u001b[1;32m   4905\u001b[0m         \"\"\"\n\u001b[0;32m-> 4906\u001b[0;31m         return super().drop(\n\u001b[0m\u001b[1;32m   4907\u001b[0m             \u001b[0mlabels\u001b[0m\u001b[0;34m=\u001b[0m\u001b[0mlabels\u001b[0m\u001b[0;34m,\u001b[0m\u001b[0;34m\u001b[0m\u001b[0;34m\u001b[0m\u001b[0m\n\u001b[1;32m   4908\u001b[0m             \u001b[0maxis\u001b[0m\u001b[0;34m=\u001b[0m\u001b[0maxis\u001b[0m\u001b[0;34m,\u001b[0m\u001b[0;34m\u001b[0m\u001b[0;34m\u001b[0m\u001b[0m\n",
            "\u001b[0;32m/usr/local/lib/python3.8/dist-packages/pandas/core/generic.py\u001b[0m in \u001b[0;36mdrop\u001b[0;34m(self, labels, axis, index, columns, level, inplace, errors)\u001b[0m\n\u001b[1;32m   4148\u001b[0m         \u001b[0;32mfor\u001b[0m \u001b[0maxis\u001b[0m\u001b[0;34m,\u001b[0m \u001b[0mlabels\u001b[0m \u001b[0;32min\u001b[0m \u001b[0maxes\u001b[0m\u001b[0;34m.\u001b[0m\u001b[0mitems\u001b[0m\u001b[0;34m(\u001b[0m\u001b[0;34m)\u001b[0m\u001b[0;34m:\u001b[0m\u001b[0;34m\u001b[0m\u001b[0;34m\u001b[0m\u001b[0m\n\u001b[1;32m   4149\u001b[0m             \u001b[0;32mif\u001b[0m \u001b[0mlabels\u001b[0m \u001b[0;32mis\u001b[0m \u001b[0;32mnot\u001b[0m \u001b[0;32mNone\u001b[0m\u001b[0;34m:\u001b[0m\u001b[0;34m\u001b[0m\u001b[0;34m\u001b[0m\u001b[0m\n\u001b[0;32m-> 4150\u001b[0;31m                 \u001b[0mobj\u001b[0m \u001b[0;34m=\u001b[0m \u001b[0mobj\u001b[0m\u001b[0;34m.\u001b[0m\u001b[0m_drop_axis\u001b[0m\u001b[0;34m(\u001b[0m\u001b[0mlabels\u001b[0m\u001b[0;34m,\u001b[0m \u001b[0maxis\u001b[0m\u001b[0;34m,\u001b[0m \u001b[0mlevel\u001b[0m\u001b[0;34m=\u001b[0m\u001b[0mlevel\u001b[0m\u001b[0;34m,\u001b[0m \u001b[0merrors\u001b[0m\u001b[0;34m=\u001b[0m\u001b[0merrors\u001b[0m\u001b[0;34m)\u001b[0m\u001b[0;34m\u001b[0m\u001b[0;34m\u001b[0m\u001b[0m\n\u001b[0m\u001b[1;32m   4151\u001b[0m \u001b[0;34m\u001b[0m\u001b[0m\n\u001b[1;32m   4152\u001b[0m         \u001b[0;32mif\u001b[0m \u001b[0minplace\u001b[0m\u001b[0;34m:\u001b[0m\u001b[0;34m\u001b[0m\u001b[0;34m\u001b[0m\u001b[0m\n",
            "\u001b[0;32m/usr/local/lib/python3.8/dist-packages/pandas/core/generic.py\u001b[0m in \u001b[0;36m_drop_axis\u001b[0;34m(self, labels, axis, level, errors)\u001b[0m\n\u001b[1;32m   4183\u001b[0m                 \u001b[0mnew_axis\u001b[0m \u001b[0;34m=\u001b[0m \u001b[0maxis\u001b[0m\u001b[0;34m.\u001b[0m\u001b[0mdrop\u001b[0m\u001b[0;34m(\u001b[0m\u001b[0mlabels\u001b[0m\u001b[0;34m,\u001b[0m \u001b[0mlevel\u001b[0m\u001b[0;34m=\u001b[0m\u001b[0mlevel\u001b[0m\u001b[0;34m,\u001b[0m \u001b[0merrors\u001b[0m\u001b[0;34m=\u001b[0m\u001b[0merrors\u001b[0m\u001b[0;34m)\u001b[0m\u001b[0;34m\u001b[0m\u001b[0;34m\u001b[0m\u001b[0m\n\u001b[1;32m   4184\u001b[0m             \u001b[0;32melse\u001b[0m\u001b[0;34m:\u001b[0m\u001b[0;34m\u001b[0m\u001b[0;34m\u001b[0m\u001b[0m\n\u001b[0;32m-> 4185\u001b[0;31m                 \u001b[0mnew_axis\u001b[0m \u001b[0;34m=\u001b[0m \u001b[0maxis\u001b[0m\u001b[0;34m.\u001b[0m\u001b[0mdrop\u001b[0m\u001b[0;34m(\u001b[0m\u001b[0mlabels\u001b[0m\u001b[0;34m,\u001b[0m \u001b[0merrors\u001b[0m\u001b[0;34m=\u001b[0m\u001b[0merrors\u001b[0m\u001b[0;34m)\u001b[0m\u001b[0;34m\u001b[0m\u001b[0;34m\u001b[0m\u001b[0m\n\u001b[0m\u001b[1;32m   4186\u001b[0m             \u001b[0mresult\u001b[0m \u001b[0;34m=\u001b[0m \u001b[0mself\u001b[0m\u001b[0;34m.\u001b[0m\u001b[0mreindex\u001b[0m\u001b[0;34m(\u001b[0m\u001b[0;34m**\u001b[0m\u001b[0;34m{\u001b[0m\u001b[0maxis_name\u001b[0m\u001b[0;34m:\u001b[0m \u001b[0mnew_axis\u001b[0m\u001b[0;34m}\u001b[0m\u001b[0;34m)\u001b[0m\u001b[0;34m\u001b[0m\u001b[0;34m\u001b[0m\u001b[0m\n\u001b[1;32m   4187\u001b[0m \u001b[0;34m\u001b[0m\u001b[0m\n",
            "\u001b[0;32m/usr/local/lib/python3.8/dist-packages/pandas/core/indexes/base.py\u001b[0m in \u001b[0;36mdrop\u001b[0;34m(self, labels, errors)\u001b[0m\n\u001b[1;32m   6015\u001b[0m         \u001b[0;32mif\u001b[0m \u001b[0mmask\u001b[0m\u001b[0;34m.\u001b[0m\u001b[0many\u001b[0m\u001b[0;34m(\u001b[0m\u001b[0;34m)\u001b[0m\u001b[0;34m:\u001b[0m\u001b[0;34m\u001b[0m\u001b[0;34m\u001b[0m\u001b[0m\n\u001b[1;32m   6016\u001b[0m             \u001b[0;32mif\u001b[0m \u001b[0merrors\u001b[0m \u001b[0;34m!=\u001b[0m \u001b[0;34m\"ignore\"\u001b[0m\u001b[0;34m:\u001b[0m\u001b[0;34m\u001b[0m\u001b[0;34m\u001b[0m\u001b[0m\n\u001b[0;32m-> 6017\u001b[0;31m                 \u001b[0;32mraise\u001b[0m \u001b[0mKeyError\u001b[0m\u001b[0;34m(\u001b[0m\u001b[0;34mf\"{labels[mask]} not found in axis\"\u001b[0m\u001b[0;34m)\u001b[0m\u001b[0;34m\u001b[0m\u001b[0;34m\u001b[0m\u001b[0m\n\u001b[0m\u001b[1;32m   6018\u001b[0m             \u001b[0mindexer\u001b[0m \u001b[0;34m=\u001b[0m \u001b[0mindexer\u001b[0m\u001b[0;34m[\u001b[0m\u001b[0;34m~\u001b[0m\u001b[0mmask\u001b[0m\u001b[0;34m]\u001b[0m\u001b[0;34m\u001b[0m\u001b[0;34m\u001b[0m\u001b[0m\n\u001b[1;32m   6019\u001b[0m         \u001b[0;32mreturn\u001b[0m \u001b[0mself\u001b[0m\u001b[0;34m.\u001b[0m\u001b[0mdelete\u001b[0m\u001b[0;34m(\u001b[0m\u001b[0mindexer\u001b[0m\u001b[0;34m)\u001b[0m\u001b[0;34m\u001b[0m\u001b[0;34m\u001b[0m\u001b[0m\n",
            "\u001b[0;31mKeyError\u001b[0m: \"['predicted_weight_g'] not found in axis\""
          ]
        }
      ],
      "source": [
        "for i in range(5):\n",
        "  submission = Y_test[i*28:(i*28)+28]\n",
        "  submission.to_csv(\"TEST_0\" + str(i+1) + \".csv\", mode='w', index=False)\n",
        "\n",
        "import zipfile\n",
        "path = \"/content/drive/MyDrive/01.Competition/03.Create_lettuce_growing_environment_AI/my_submission/09_9type_model/\"\n",
        "file_list = ['TEST_01.csv', 'TEST_02.csv', 'TEST_03.csv', 'TEST_04.csv', 'TEST_05.csv']\n",
        "with zipfile.ZipFile(path + \"LinearRegression_1217_4.zip\", 'w') as my_zip:\n",
        "    for i in file_list:\n",
        "        my_zip.write(i)\n",
        "    my_zip.close()\n",
        "\n",
        "Y_test = Y_test.drop(['predicted_weight_g'], axis=1)"
      ]
    },
    {
      "cell_type": "markdown",
      "metadata": {
        "id": "D6iLVedHCUTB"
      },
      "source": [
        "## Ridge Regression"
      ]
    },
    {
      "cell_type": "code",
      "execution_count": null,
      "metadata": {
        "colab": {
          "base_uri": "https://localhost:8080/"
        },
        "id": "Hh7OQ-uUBXiO",
        "outputId": "7e3ef5f4-ef83-472e-b822-c5328f07b1b6"
      },
      "outputs": [
        {
          "name": "stdout",
          "output_type": "stream",
          "text": [
            "Ridge score: 1.8026 (0.9447)\n"
          ]
        }
      ],
      "source": [
        "model_ridge = Ridge(alpha=0.8, random_state=1)\n",
        "\n",
        "score = rmsle_cv(model_ridge)\n",
        "print(\"Ridge score: {:.4f} ({:.4f})\".format(score.mean(), score.std()))"
      ]
    },
    {
      "cell_type": "code",
      "execution_count": null,
      "metadata": {
        "colab": {
          "base_uri": "https://localhost:8080/"
        },
        "id": "LR27GRq6CQUZ",
        "outputId": "f08e02e9-eca3-4b39-d32b-029f8c4ad305"
      },
      "outputs": [
        {
          "data": {
            "text/plain": [
              "Ridge(alpha=0.8, random_state=1)"
            ]
          },
          "execution_count": 25,
          "metadata": {},
          "output_type": "execute_result"
        }
      ],
      "source": [
        "model_ridge.fit(X_train, Y_train)"
      ]
    },
    {
      "cell_type": "code",
      "execution_count": null,
      "metadata": {
        "colab": {
          "base_uri": "https://localhost:8080/"
        },
        "id": "Rim_Um6jCktM",
        "outputId": "5706b20e-c9e7-4442-b40b-5442c9be4f2c"
      },
      "outputs": [
        {
          "data": {
            "text/plain": [
              "array([ 4.64516945e+00,  5.10821987e+00,  4.78594919e+00,  3.69498215e+00,\n",
              "        4.99871841e+00,  6.77402085e+00,  7.91912999e+00,  5.82195132e+00,\n",
              "        9.37598617e+00,  5.69147004e+00,  6.27981126e+00,  9.41622070e+00,\n",
              "        2.03628944e+01,  1.51881578e+01,  2.04063346e+01,  2.22852525e+01,\n",
              "        1.39549238e+01,  2.17723337e+01,  3.96548097e+01,  2.75014123e+01,\n",
              "        6.54737179e+01,  5.82573262e+01,  8.63236184e+01,  5.96927187e+01,\n",
              "        3.75179211e+01,  4.37668649e+01,  5.14735502e+01,  6.21174256e+01,\n",
              "        1.01661314e+00,  1.36746253e+00,  6.79298492e-01,  7.63645302e-01,\n",
              "        1.50296506e+00,  3.80090253e+00,  3.23531834e+00,  3.42491754e+00,\n",
              "        5.09172650e+00,  5.39338913e+00,  5.56278901e+00,  9.13034738e+00,\n",
              "        1.28473173e+01,  8.46424669e+00,  8.88131519e+00,  9.58483415e+00,\n",
              "        8.56177181e+00,  1.13286034e+01,  1.53606751e+01,  1.92416815e+01,\n",
              "        1.13920906e+01,  1.68937027e+01,  1.72677750e+01,  2.82131864e+01,\n",
              "        5.75233253e+00,  2.98399898e+01,  1.47442497e+01,  1.82579549e+01,\n",
              "       -3.00559482e-01, -5.27899603e-01, -4.46656410e-01, -6.33930621e-01,\n",
              "       -6.52255447e-01, -6.16393739e-01, -5.91760571e-01, -4.32060685e-02,\n",
              "       -3.86665159e-01, -1.25623809e-01, -3.79833355e-01,  1.02500388e-02,\n",
              "       -4.39155429e-01,  4.40374767e-01, -1.56748581e-01,  1.69617361e-01,\n",
              "        4.02968336e-01,  4.51173649e-01,  1.09140752e+00,  9.09742194e+00,\n",
              "        1.21084969e+00,  5.89802986e+00,  7.45390105e+00,  5.16549097e+00,\n",
              "        7.57675264e+00,  7.18376298e+00,  1.08890894e+01,  1.08551472e+01,\n",
              "        4.61108276e+00,  3.42985929e+00,  4.28408676e+00,  3.05022530e+00,\n",
              "        2.58218663e+00,  6.74977208e+00,  4.01911577e+00,  5.39559916e+00,\n",
              "        7.51004391e+00,  3.63695554e+00,  6.42665225e+00,  6.77070265e+00,\n",
              "        1.74966790e+01,  1.30200332e+01,  1.91099491e+01,  2.95897427e+01,\n",
              "        1.36818153e+01,  2.28677124e+01,  2.77401271e+01,  3.12066614e+01,\n",
              "        3.70549192e+01,  4.91497989e+01,  6.41664948e+01,  5.90368381e+01,\n",
              "        3.27952877e+01,  4.11262443e+01,  4.33087581e+01,  5.45347741e+01,\n",
              "        9.82278726e-01,  3.73677676e+00,  2.78089427e+00,  5.20331804e+00,\n",
              "        4.27406484e+00,  5.22196162e+00,  5.02829961e+00,  8.84229943e+00,\n",
              "        1.15497071e+01,  6.50585033e+00,  8.70858822e+00,  7.96235640e+00,\n",
              "        1.03445970e+01,  1.08362788e+01,  1.04302603e+01,  1.61716970e+01,\n",
              "        2.19470664e+01,  1.37446720e+01,  2.19847655e+01,  2.70740355e+01,\n",
              "        2.27913070e+01,  1.27517716e+01,  3.41529515e+01,  2.29898265e+01,\n",
              "        3.75115851e+01,  5.04256630e+01,  2.89592577e+01,  4.77939702e+01])"
            ]
          },
          "execution_count": 26,
          "metadata": {},
          "output_type": "execute_result"
        }
      ],
      "source": [
        "pred_ridge = model_ridge.predict(X_test)\n",
        "final_pred_sub_ridge = np.expm1(pred_ridge)\n",
        "final_pred_sub_ridge"
      ]
    },
    {
      "cell_type": "code",
      "execution_count": null,
      "metadata": {
        "colab": {
          "base_uri": "https://localhost:8080/",
          "height": 424
        },
        "id": "Acg5Hl-yCva-",
        "outputId": "26888a25-73e4-4840-9564-9b2d975f759a"
      },
      "outputs": [
        {
          "data": {
            "text/html": [
              "\n",
              "  <div id=\"df-854775ac-84f2-42c2-bce3-6e5ad3ec8f43\">\n",
              "    <div class=\"colab-df-container\">\n",
              "      <div>\n",
              "<style scoped>\n",
              "    .dataframe tbody tr th:only-of-type {\n",
              "        vertical-align: middle;\n",
              "    }\n",
              "\n",
              "    .dataframe tbody tr th {\n",
              "        vertical-align: top;\n",
              "    }\n",
              "\n",
              "    .dataframe thead th {\n",
              "        text-align: right;\n",
              "    }\n",
              "</style>\n",
              "<table border=\"1\" class=\"dataframe\">\n",
              "  <thead>\n",
              "    <tr style=\"text-align: right;\">\n",
              "      <th></th>\n",
              "      <th>상추</th>\n",
              "      <th>DAT</th>\n",
              "      <th>predicted_weight_g</th>\n",
              "    </tr>\n",
              "  </thead>\n",
              "  <tbody>\n",
              "    <tr>\n",
              "      <th>0</th>\n",
              "      <td>case29</td>\n",
              "      <td>1</td>\n",
              "      <td>4.645169</td>\n",
              "    </tr>\n",
              "    <tr>\n",
              "      <th>1</th>\n",
              "      <td>case29</td>\n",
              "      <td>2</td>\n",
              "      <td>5.108220</td>\n",
              "    </tr>\n",
              "    <tr>\n",
              "      <th>2</th>\n",
              "      <td>case29</td>\n",
              "      <td>3</td>\n",
              "      <td>4.785949</td>\n",
              "    </tr>\n",
              "    <tr>\n",
              "      <th>3</th>\n",
              "      <td>case29</td>\n",
              "      <td>4</td>\n",
              "      <td>3.694982</td>\n",
              "    </tr>\n",
              "    <tr>\n",
              "      <th>4</th>\n",
              "      <td>case29</td>\n",
              "      <td>5</td>\n",
              "      <td>4.998718</td>\n",
              "    </tr>\n",
              "    <tr>\n",
              "      <th>...</th>\n",
              "      <td>...</td>\n",
              "      <td>...</td>\n",
              "      <td>...</td>\n",
              "    </tr>\n",
              "    <tr>\n",
              "      <th>135</th>\n",
              "      <td>case33</td>\n",
              "      <td>24</td>\n",
              "      <td>22.989826</td>\n",
              "    </tr>\n",
              "    <tr>\n",
              "      <th>136</th>\n",
              "      <td>case33</td>\n",
              "      <td>25</td>\n",
              "      <td>37.511585</td>\n",
              "    </tr>\n",
              "    <tr>\n",
              "      <th>137</th>\n",
              "      <td>case33</td>\n",
              "      <td>26</td>\n",
              "      <td>50.425663</td>\n",
              "    </tr>\n",
              "    <tr>\n",
              "      <th>138</th>\n",
              "      <td>case33</td>\n",
              "      <td>27</td>\n",
              "      <td>28.959258</td>\n",
              "    </tr>\n",
              "    <tr>\n",
              "      <th>139</th>\n",
              "      <td>case33</td>\n",
              "      <td>28</td>\n",
              "      <td>47.793970</td>\n",
              "    </tr>\n",
              "  </tbody>\n",
              "</table>\n",
              "<p>140 rows × 3 columns</p>\n",
              "</div>\n",
              "      <button class=\"colab-df-convert\" onclick=\"convertToInteractive('df-854775ac-84f2-42c2-bce3-6e5ad3ec8f43')\"\n",
              "              title=\"Convert this dataframe to an interactive table.\"\n",
              "              style=\"display:none;\">\n",
              "        \n",
              "  <svg xmlns=\"http://www.w3.org/2000/svg\" height=\"24px\"viewBox=\"0 0 24 24\"\n",
              "       width=\"24px\">\n",
              "    <path d=\"M0 0h24v24H0V0z\" fill=\"none\"/>\n",
              "    <path d=\"M18.56 5.44l.94 2.06.94-2.06 2.06-.94-2.06-.94-.94-2.06-.94 2.06-2.06.94zm-11 1L8.5 8.5l.94-2.06 2.06-.94-2.06-.94L8.5 2.5l-.94 2.06-2.06.94zm10 10l.94 2.06.94-2.06 2.06-.94-2.06-.94-.94-2.06-.94 2.06-2.06.94z\"/><path d=\"M17.41 7.96l-1.37-1.37c-.4-.4-.92-.59-1.43-.59-.52 0-1.04.2-1.43.59L10.3 9.45l-7.72 7.72c-.78.78-.78 2.05 0 2.83L4 21.41c.39.39.9.59 1.41.59.51 0 1.02-.2 1.41-.59l7.78-7.78 2.81-2.81c.8-.78.8-2.07 0-2.86zM5.41 20L4 18.59l7.72-7.72 1.47 1.35L5.41 20z\"/>\n",
              "  </svg>\n",
              "      </button>\n",
              "      \n",
              "  <style>\n",
              "    .colab-df-container {\n",
              "      display:flex;\n",
              "      flex-wrap:wrap;\n",
              "      gap: 12px;\n",
              "    }\n",
              "\n",
              "    .colab-df-convert {\n",
              "      background-color: #E8F0FE;\n",
              "      border: none;\n",
              "      border-radius: 50%;\n",
              "      cursor: pointer;\n",
              "      display: none;\n",
              "      fill: #1967D2;\n",
              "      height: 32px;\n",
              "      padding: 0 0 0 0;\n",
              "      width: 32px;\n",
              "    }\n",
              "\n",
              "    .colab-df-convert:hover {\n",
              "      background-color: #E2EBFA;\n",
              "      box-shadow: 0px 1px 2px rgba(60, 64, 67, 0.3), 0px 1px 3px 1px rgba(60, 64, 67, 0.15);\n",
              "      fill: #174EA6;\n",
              "    }\n",
              "\n",
              "    [theme=dark] .colab-df-convert {\n",
              "      background-color: #3B4455;\n",
              "      fill: #D2E3FC;\n",
              "    }\n",
              "\n",
              "    [theme=dark] .colab-df-convert:hover {\n",
              "      background-color: #434B5C;\n",
              "      box-shadow: 0px 1px 3px 1px rgba(0, 0, 0, 0.15);\n",
              "      filter: drop-shadow(0px 1px 2px rgba(0, 0, 0, 0.3));\n",
              "      fill: #FFFFFF;\n",
              "    }\n",
              "  </style>\n",
              "\n",
              "      <script>\n",
              "        const buttonEl =\n",
              "          document.querySelector('#df-854775ac-84f2-42c2-bce3-6e5ad3ec8f43 button.colab-df-convert');\n",
              "        buttonEl.style.display =\n",
              "          google.colab.kernel.accessAllowed ? 'block' : 'none';\n",
              "\n",
              "        async function convertToInteractive(key) {\n",
              "          const element = document.querySelector('#df-854775ac-84f2-42c2-bce3-6e5ad3ec8f43');\n",
              "          const dataTable =\n",
              "            await google.colab.kernel.invokeFunction('convertToInteractive',\n",
              "                                                     [key], {});\n",
              "          if (!dataTable) return;\n",
              "\n",
              "          const docLinkHtml = 'Like what you see? Visit the ' +\n",
              "            '<a target=\"_blank\" href=https://colab.research.google.com/notebooks/data_table.ipynb>data table notebook</a>'\n",
              "            + ' to learn more about interactive tables.';\n",
              "          element.innerHTML = '';\n",
              "          dataTable['output_type'] = 'display_data';\n",
              "          await google.colab.output.renderOutput(dataTable, element);\n",
              "          const docLink = document.createElement('div');\n",
              "          docLink.innerHTML = docLinkHtml;\n",
              "          element.appendChild(docLink);\n",
              "        }\n",
              "      </script>\n",
              "    </div>\n",
              "  </div>\n",
              "  "
            ],
            "text/plain": [
              "         상추  DAT  predicted_weight_g\n",
              "0    case29    1            4.645169\n",
              "1    case29    2            5.108220\n",
              "2    case29    3            4.785949\n",
              "3    case29    4            3.694982\n",
              "4    case29    5            4.998718\n",
              "..      ...  ...                 ...\n",
              "135  case33   24           22.989826\n",
              "136  case33   25           37.511585\n",
              "137  case33   26           50.425663\n",
              "138  case33   27           28.959258\n",
              "139  case33   28           47.793970\n",
              "\n",
              "[140 rows x 3 columns]"
            ]
          },
          "execution_count": 27,
          "metadata": {},
          "output_type": "execute_result"
        }
      ],
      "source": [
        "Y_test['생육일별_잎_중량'] = final_pred_sub_ridge\n",
        "Y_test = Y_test.rename(columns={'생육일':'DAT', '생육일별_잎_중량':'predicted_weight_g'})\n",
        "Y_test"
      ]
    },
    {
      "cell_type": "code",
      "execution_count": null,
      "metadata": {
        "id": "4pE0VhlGC-Fp"
      },
      "outputs": [],
      "source": [
        "for i in range(5):\n",
        "  submission = Y_test[i*28:(i*28)+28]\n",
        "  submission.to_csv(\"TEST_0\" + str(i+1) + \".csv\", mode='w', index=False)\n",
        "\n",
        "import zipfile\n",
        "path = \"/content/drive/MyDrive/01.Competition/03.Create_lettuce_growing_environment_AI/my_submission/09_9type_model/\"\n",
        "file_list = ['TEST_01.csv', 'TEST_02.csv', 'TEST_03.csv', 'TEST_04.csv', 'TEST_05.csv']\n",
        "with zipfile.ZipFile(path + \"RidgeRegression_1217_4.zip\", 'w') as my_zip:\n",
        "    for i in file_list:\n",
        "        my_zip.write(i)\n",
        "    my_zip.close()\n",
        "\n",
        "Y_test = Y_test.drop(['predicted_weight_g'], axis=1)"
      ]
    },
    {
      "cell_type": "markdown",
      "metadata": {
        "id": "YjfTKyrNCV-M"
      },
      "source": [
        "## Lasso Regression"
      ]
    },
    {
      "cell_type": "code",
      "execution_count": null,
      "metadata": {
        "colab": {
          "base_uri": "https://localhost:8080/"
        },
        "id": "t6znAfJtBXe9",
        "outputId": "f79f551a-64a4-4df7-eb1e-6eba93ef9104"
      },
      "outputs": [
        {
          "name": "stdout",
          "output_type": "stream",
          "text": [
            "Lasso score: 1.0467 (0.7093)\n"
          ]
        }
      ],
      "source": [
        "model_lasso = Lasso(alpha = 0.01, random_state=1)\n",
        "\n",
        "score = rmsle_cv(model_lasso)\n",
        "print(\"Lasso score: {:.4f} ({:.4f})\".format(score.mean(), score.std()))"
      ]
    },
    {
      "cell_type": "code",
      "execution_count": null,
      "metadata": {
        "colab": {
          "base_uri": "https://localhost:8080/"
        },
        "id": "cGMPsXYLCQqA",
        "outputId": "a3cd4bc2-a0b5-451c-8ec2-72eaec84688c"
      },
      "outputs": [
        {
          "data": {
            "text/plain": [
              "Lasso(alpha=0.01, random_state=1)"
            ]
          },
          "execution_count": 30,
          "metadata": {},
          "output_type": "execute_result"
        }
      ],
      "source": [
        "model_lasso.fit(X_train, Y_train)"
      ]
    },
    {
      "cell_type": "code",
      "execution_count": null,
      "metadata": {
        "colab": {
          "base_uri": "https://localhost:8080/"
        },
        "id": "tSFEaqxOCkTx",
        "outputId": "4419b293-0ced-48db-e0d4-bce9d3fcf720"
      },
      "outputs": [
        {
          "data": {
            "text/plain": [
              "array([  0.68290864,   1.37890526,   1.72020115,   2.2141534 ,\n",
              "         2.03915868,   3.43151642,   3.47016586,   3.19092979,\n",
              "         4.65580664,   6.40230827,   4.98320889,  11.01785876,\n",
              "        13.05772464,  14.7198523 ,  13.23638735,  17.40876415,\n",
              "        18.00404881,  21.56624943,  22.80570203,  27.83024352,\n",
              "        93.32505627,  65.762086  ,  86.58950819,  68.35574499,\n",
              "        64.75139443,  63.42015798,  82.36241845, 113.78574585,\n",
              "         0.46618014,   1.1031919 ,   1.54360236,   1.39349751,\n",
              "         1.83979364,   2.75531746,   3.68166651,   5.04247562,\n",
              "         5.00910168,   6.63265141,   5.58722527,   6.64027433,\n",
              "         7.64788338,   8.22956088,   9.74715588,   9.57987777,\n",
              "        11.90904592,  19.43678438,  16.71442059,  20.32913863,\n",
              "        27.18618613,  44.61627936,  32.52619671,  39.70888673,\n",
              "        66.91562858,  39.3976012 ,  44.15418107,  71.18131849,\n",
              "         2.79047715,   1.26592129,   1.87442774,   2.24976125,\n",
              "         2.58950943,   2.64322706,   3.24102586,   5.42543698,\n",
              "         4.98459626,   5.92672861,   6.26771588,   7.39713354,\n",
              "         9.38434429,  12.68816928,  16.61910987,  14.75543961,\n",
              "        16.13614644,  14.76152556,  20.08896554,  27.94456918,\n",
              "        27.09052908,  35.86603399,  41.22365735,  45.59901224,\n",
              "        52.89242721,  61.24191923,  64.93315613,  93.11548241,\n",
              "         0.89947835,   1.25326615,   1.18814557,   1.60489916,\n",
              "         1.8546099 ,   3.03462443,   2.96183871,   3.42038785,\n",
              "         4.17223582,   5.88324186,   6.88431598,   8.82549018,\n",
              "        11.26908214,  12.9097306 ,  13.99151726,  17.46526119,\n",
              "        16.84006719,  21.99990122,  24.48570361,  22.30959753,\n",
              "        48.58041601,  69.13224098,  62.71635159,  75.65687147,\n",
              "        61.92490425,  66.08254677,  74.3612539 , 103.06358265,\n",
              "         0.64134551,   1.05503332,   0.99271694,   2.25636712,\n",
              "         1.82961657,   1.65807837,   3.21785653,   3.66522777,\n",
              "         4.09940938,   5.12769852,   6.15315005,   6.69430027,\n",
              "         8.61326138,  10.43767012,  10.35155061,  17.60520206,\n",
              "        16.20553262,  20.06831088,  23.61449174,  30.34346533,\n",
              "        39.97481903,  31.3427674 ,  42.27557589,  41.21407291,\n",
              "        59.35987001,  59.20312859,  73.6743424 ,  90.00310875])"
            ]
          },
          "execution_count": 31,
          "metadata": {},
          "output_type": "execute_result"
        }
      ],
      "source": [
        "pred_lasso = model_lasso.predict(X_test)\n",
        "final_pred_sub_lasso = np.expm1(pred_lasso)\n",
        "final_pred_sub_lasso"
      ]
    },
    {
      "cell_type": "code",
      "execution_count": null,
      "metadata": {
        "colab": {
          "base_uri": "https://localhost:8080/",
          "height": 424
        },
        "id": "_4KCf3KQCu9r",
        "outputId": "5386c8cd-406a-459f-c2c1-c816d24a1990"
      },
      "outputs": [
        {
          "data": {
            "text/html": [
              "\n",
              "  <div id=\"df-bc839bed-1e19-4643-a0ed-10032f579cb8\">\n",
              "    <div class=\"colab-df-container\">\n",
              "      <div>\n",
              "<style scoped>\n",
              "    .dataframe tbody tr th:only-of-type {\n",
              "        vertical-align: middle;\n",
              "    }\n",
              "\n",
              "    .dataframe tbody tr th {\n",
              "        vertical-align: top;\n",
              "    }\n",
              "\n",
              "    .dataframe thead th {\n",
              "        text-align: right;\n",
              "    }\n",
              "</style>\n",
              "<table border=\"1\" class=\"dataframe\">\n",
              "  <thead>\n",
              "    <tr style=\"text-align: right;\">\n",
              "      <th></th>\n",
              "      <th>상추</th>\n",
              "      <th>DAT</th>\n",
              "      <th>predicted_weight_g</th>\n",
              "    </tr>\n",
              "  </thead>\n",
              "  <tbody>\n",
              "    <tr>\n",
              "      <th>0</th>\n",
              "      <td>case29</td>\n",
              "      <td>1</td>\n",
              "      <td>0.682909</td>\n",
              "    </tr>\n",
              "    <tr>\n",
              "      <th>1</th>\n",
              "      <td>case29</td>\n",
              "      <td>2</td>\n",
              "      <td>1.378905</td>\n",
              "    </tr>\n",
              "    <tr>\n",
              "      <th>2</th>\n",
              "      <td>case29</td>\n",
              "      <td>3</td>\n",
              "      <td>1.720201</td>\n",
              "    </tr>\n",
              "    <tr>\n",
              "      <th>3</th>\n",
              "      <td>case29</td>\n",
              "      <td>4</td>\n",
              "      <td>2.214153</td>\n",
              "    </tr>\n",
              "    <tr>\n",
              "      <th>4</th>\n",
              "      <td>case29</td>\n",
              "      <td>5</td>\n",
              "      <td>2.039159</td>\n",
              "    </tr>\n",
              "    <tr>\n",
              "      <th>...</th>\n",
              "      <td>...</td>\n",
              "      <td>...</td>\n",
              "      <td>...</td>\n",
              "    </tr>\n",
              "    <tr>\n",
              "      <th>135</th>\n",
              "      <td>case33</td>\n",
              "      <td>24</td>\n",
              "      <td>41.214073</td>\n",
              "    </tr>\n",
              "    <tr>\n",
              "      <th>136</th>\n",
              "      <td>case33</td>\n",
              "      <td>25</td>\n",
              "      <td>59.359870</td>\n",
              "    </tr>\n",
              "    <tr>\n",
              "      <th>137</th>\n",
              "      <td>case33</td>\n",
              "      <td>26</td>\n",
              "      <td>59.203129</td>\n",
              "    </tr>\n",
              "    <tr>\n",
              "      <th>138</th>\n",
              "      <td>case33</td>\n",
              "      <td>27</td>\n",
              "      <td>73.674342</td>\n",
              "    </tr>\n",
              "    <tr>\n",
              "      <th>139</th>\n",
              "      <td>case33</td>\n",
              "      <td>28</td>\n",
              "      <td>90.003109</td>\n",
              "    </tr>\n",
              "  </tbody>\n",
              "</table>\n",
              "<p>140 rows × 3 columns</p>\n",
              "</div>\n",
              "      <button class=\"colab-df-convert\" onclick=\"convertToInteractive('df-bc839bed-1e19-4643-a0ed-10032f579cb8')\"\n",
              "              title=\"Convert this dataframe to an interactive table.\"\n",
              "              style=\"display:none;\">\n",
              "        \n",
              "  <svg xmlns=\"http://www.w3.org/2000/svg\" height=\"24px\"viewBox=\"0 0 24 24\"\n",
              "       width=\"24px\">\n",
              "    <path d=\"M0 0h24v24H0V0z\" fill=\"none\"/>\n",
              "    <path d=\"M18.56 5.44l.94 2.06.94-2.06 2.06-.94-2.06-.94-.94-2.06-.94 2.06-2.06.94zm-11 1L8.5 8.5l.94-2.06 2.06-.94-2.06-.94L8.5 2.5l-.94 2.06-2.06.94zm10 10l.94 2.06.94-2.06 2.06-.94-2.06-.94-.94-2.06-.94 2.06-2.06.94z\"/><path d=\"M17.41 7.96l-1.37-1.37c-.4-.4-.92-.59-1.43-.59-.52 0-1.04.2-1.43.59L10.3 9.45l-7.72 7.72c-.78.78-.78 2.05 0 2.83L4 21.41c.39.39.9.59 1.41.59.51 0 1.02-.2 1.41-.59l7.78-7.78 2.81-2.81c.8-.78.8-2.07 0-2.86zM5.41 20L4 18.59l7.72-7.72 1.47 1.35L5.41 20z\"/>\n",
              "  </svg>\n",
              "      </button>\n",
              "      \n",
              "  <style>\n",
              "    .colab-df-container {\n",
              "      display:flex;\n",
              "      flex-wrap:wrap;\n",
              "      gap: 12px;\n",
              "    }\n",
              "\n",
              "    .colab-df-convert {\n",
              "      background-color: #E8F0FE;\n",
              "      border: none;\n",
              "      border-radius: 50%;\n",
              "      cursor: pointer;\n",
              "      display: none;\n",
              "      fill: #1967D2;\n",
              "      height: 32px;\n",
              "      padding: 0 0 0 0;\n",
              "      width: 32px;\n",
              "    }\n",
              "\n",
              "    .colab-df-convert:hover {\n",
              "      background-color: #E2EBFA;\n",
              "      box-shadow: 0px 1px 2px rgba(60, 64, 67, 0.3), 0px 1px 3px 1px rgba(60, 64, 67, 0.15);\n",
              "      fill: #174EA6;\n",
              "    }\n",
              "\n",
              "    [theme=dark] .colab-df-convert {\n",
              "      background-color: #3B4455;\n",
              "      fill: #D2E3FC;\n",
              "    }\n",
              "\n",
              "    [theme=dark] .colab-df-convert:hover {\n",
              "      background-color: #434B5C;\n",
              "      box-shadow: 0px 1px 3px 1px rgba(0, 0, 0, 0.15);\n",
              "      filter: drop-shadow(0px 1px 2px rgba(0, 0, 0, 0.3));\n",
              "      fill: #FFFFFF;\n",
              "    }\n",
              "  </style>\n",
              "\n",
              "      <script>\n",
              "        const buttonEl =\n",
              "          document.querySelector('#df-bc839bed-1e19-4643-a0ed-10032f579cb8 button.colab-df-convert');\n",
              "        buttonEl.style.display =\n",
              "          google.colab.kernel.accessAllowed ? 'block' : 'none';\n",
              "\n",
              "        async function convertToInteractive(key) {\n",
              "          const element = document.querySelector('#df-bc839bed-1e19-4643-a0ed-10032f579cb8');\n",
              "          const dataTable =\n",
              "            await google.colab.kernel.invokeFunction('convertToInteractive',\n",
              "                                                     [key], {});\n",
              "          if (!dataTable) return;\n",
              "\n",
              "          const docLinkHtml = 'Like what you see? Visit the ' +\n",
              "            '<a target=\"_blank\" href=https://colab.research.google.com/notebooks/data_table.ipynb>data table notebook</a>'\n",
              "            + ' to learn more about interactive tables.';\n",
              "          element.innerHTML = '';\n",
              "          dataTable['output_type'] = 'display_data';\n",
              "          await google.colab.output.renderOutput(dataTable, element);\n",
              "          const docLink = document.createElement('div');\n",
              "          docLink.innerHTML = docLinkHtml;\n",
              "          element.appendChild(docLink);\n",
              "        }\n",
              "      </script>\n",
              "    </div>\n",
              "  </div>\n",
              "  "
            ],
            "text/plain": [
              "         상추  DAT  predicted_weight_g\n",
              "0    case29    1            0.682909\n",
              "1    case29    2            1.378905\n",
              "2    case29    3            1.720201\n",
              "3    case29    4            2.214153\n",
              "4    case29    5            2.039159\n",
              "..      ...  ...                 ...\n",
              "135  case33   24           41.214073\n",
              "136  case33   25           59.359870\n",
              "137  case33   26           59.203129\n",
              "138  case33   27           73.674342\n",
              "139  case33   28           90.003109\n",
              "\n",
              "[140 rows x 3 columns]"
            ]
          },
          "execution_count": 32,
          "metadata": {},
          "output_type": "execute_result"
        }
      ],
      "source": [
        "Y_test['생육일별_잎_중량'] = final_pred_sub_lasso\n",
        "Y_test = Y_test.rename(columns={'생육일':'DAT', '생육일별_잎_중량':'predicted_weight_g'})\n",
        "Y_test"
      ]
    },
    {
      "cell_type": "code",
      "execution_count": null,
      "metadata": {
        "id": "mOpOWMjDC9iK"
      },
      "outputs": [],
      "source": [
        "for i in range(5):\n",
        "  submission = Y_test[i*28:(i*28)+28]\n",
        "  submission.to_csv(\"TEST_0\" + str(i+1) + \".csv\", mode='w', index=False)\n",
        "\n",
        "import zipfile\n",
        "path = \"/content/drive/MyDrive/01.Competition/03.Create_lettuce_growing_environment_AI/my_submission/09_9type_model/\"\n",
        "file_list = ['TEST_01.csv', 'TEST_02.csv', 'TEST_03.csv', 'TEST_04.csv', 'TEST_05.csv']\n",
        "with zipfile.ZipFile(path + \"LassoRegression_1217_4.zip\", 'w') as my_zip:\n",
        "    for i in file_list:\n",
        "        my_zip.write(i)\n",
        "    my_zip.close()\n",
        "\n",
        "Y_test = Y_test.drop(['predicted_weight_g'], axis=1)"
      ]
    },
    {
      "cell_type": "markdown",
      "metadata": {
        "id": "oNZlRYhACXYK"
      },
      "source": [
        "## Elasticnet Regression"
      ]
    },
    {
      "cell_type": "code",
      "execution_count": null,
      "metadata": {
        "colab": {
          "base_uri": "https://localhost:8080/"
        },
        "id": "9C8lgfW9BXbL",
        "outputId": "53c644f2-ad98-4683-ee12-f5edc94b57ef"
      },
      "outputs": [
        {
          "name": "stdout",
          "output_type": "stream",
          "text": [
            "ElasticNet score: 0.8845 (0.5756)\n"
          ]
        }
      ],
      "source": [
        "model_Enet = ElasticNet(alpha=0.03, l1_ratio=0.01, random_state=1)\n",
        "\n",
        "score = rmsle_cv(model_Enet)\n",
        "print(\"ElasticNet score: {:.4f} ({:.4f})\".format(score.mean(), score.std()))"
      ]
    },
    {
      "cell_type": "code",
      "execution_count": null,
      "metadata": {
        "colab": {
          "base_uri": "https://localhost:8080/"
        },
        "id": "2C88FfFRCQ83",
        "outputId": "5ee2f09e-5968-4a63-fc4c-af1ea1e79145"
      },
      "outputs": [
        {
          "data": {
            "text/plain": [
              "ElasticNet(alpha=0.03, l1_ratio=0.01, random_state=1)"
            ]
          },
          "execution_count": 34,
          "metadata": {},
          "output_type": "execute_result"
        }
      ],
      "source": [
        "model_Enet.fit(X_train, Y_train)"
      ]
    },
    {
      "cell_type": "code",
      "execution_count": null,
      "metadata": {
        "colab": {
          "base_uri": "https://localhost:8080/"
        },
        "id": "mJzq8S_cCj5u",
        "outputId": "c199604a-0b33-4db6-ebef-9be712174631"
      },
      "outputs": [
        {
          "data": {
            "text/plain": [
              "array([  0.56035257,   1.28482373,   1.59036798,   1.96282642,\n",
              "         1.9455407 ,   3.20559535,   3.22871359,   3.13579072,\n",
              "         4.41836906,   6.71152449,   4.50377651,  10.96642046,\n",
              "        14.35021257,  14.08916138,  14.19736248,  17.92847654,\n",
              "        17.69328822,  19.95876944,  22.06936084,  25.29829342,\n",
              "        90.61916259,  65.81721413,  85.37187357,  64.84809761,\n",
              "        64.93617883,  62.91979122,  81.15249508, 108.0681648 ,\n",
              "         0.5636387 ,   0.96894632,   1.33179195,   1.23874605,\n",
              "         1.72116348,   2.60849514,   3.62277504,   5.08525594,\n",
              "         5.08998708,   7.2158864 ,   6.20145479,   6.16354973,\n",
              "         7.12483274,   7.55700378,   9.78280072,   8.90501066,\n",
              "        11.05942171,  19.73047106,  14.35480609,  16.03191188,\n",
              "        27.73227337,  45.23237624,  30.90306677,  31.40899778,\n",
              "        68.87466561,  30.46015396,  42.2254862 ,  56.01644917,\n",
              "         2.42924028,   1.45649795,   2.09682369,   2.33340476,\n",
              "         2.58249137,   2.63332031,   3.25490054,   6.14076073,\n",
              "         5.34671212,   5.59873486,   6.21066222,   7.3987668 ,\n",
              "         9.44739167,  13.40992009,  15.43885657,  15.68959277,\n",
              "        16.48369128,  14.76401509,  20.04109634,  27.047648  ,\n",
              "        29.4797084 ,  39.19967124,  41.53334304,  45.24434614,\n",
              "        49.89134537,  59.60040246,  69.63958692,  91.78612576,\n",
              "         0.7607343 ,   1.40050765,   1.30268035,   1.63295782,\n",
              "         1.9675425 ,   2.68615348,   2.82532104,   3.47899771,\n",
              "         4.13089708,   6.43429898,   6.80034228,   9.2837133 ,\n",
              "        11.27891057,  13.07337547,  16.83642562,  17.40451115,\n",
              "        16.83530328,  21.52760754,  23.75063032,  21.7467847 ,\n",
              "        43.01934422,  68.15701822,  63.99584724,  69.84708833,\n",
              "        61.92542129,  67.18876985,  72.82593373, 101.62506801,\n",
              "         0.51626168,   0.94015198,   1.30291008,   1.98771082,\n",
              "         2.00485838,   1.44957834,   3.93501511,   3.68245174,\n",
              "         3.84519033,   4.90230014,   6.89002057,   6.16602236,\n",
              "         8.29487844,  10.82617876,  10.77592351,  17.17056528,\n",
              "        15.86422957,  21.8923591 ,  25.08038061,  31.40672736,\n",
              "        43.19091501,  33.90014706,  42.50364137,  42.68997908,\n",
              "        62.09355833,  61.03554793,  69.82379977,  91.02664995])"
            ]
          },
          "execution_count": 35,
          "metadata": {},
          "output_type": "execute_result"
        }
      ],
      "source": [
        "pred_Enet = model_Enet.predict(X_test)\n",
        "final_pred_sub_Enet = np.expm1(pred_Enet)\n",
        "final_pred_sub_Enet"
      ]
    },
    {
      "cell_type": "code",
      "execution_count": null,
      "metadata": {
        "colab": {
          "base_uri": "https://localhost:8080/",
          "height": 424
        },
        "id": "aTvVg2zpCufz",
        "outputId": "d39128cf-9ffd-409e-f879-64de3bf148cb"
      },
      "outputs": [
        {
          "data": {
            "text/html": [
              "\n",
              "  <div id=\"df-50f53cdc-e06a-44d9-996e-f15f6efb6dd6\">\n",
              "    <div class=\"colab-df-container\">\n",
              "      <div>\n",
              "<style scoped>\n",
              "    .dataframe tbody tr th:only-of-type {\n",
              "        vertical-align: middle;\n",
              "    }\n",
              "\n",
              "    .dataframe tbody tr th {\n",
              "        vertical-align: top;\n",
              "    }\n",
              "\n",
              "    .dataframe thead th {\n",
              "        text-align: right;\n",
              "    }\n",
              "</style>\n",
              "<table border=\"1\" class=\"dataframe\">\n",
              "  <thead>\n",
              "    <tr style=\"text-align: right;\">\n",
              "      <th></th>\n",
              "      <th>상추</th>\n",
              "      <th>DAT</th>\n",
              "      <th>predicted_weight_g</th>\n",
              "      <th>predicted_weight_g</th>\n",
              "    </tr>\n",
              "  </thead>\n",
              "  <tbody>\n",
              "    <tr>\n",
              "      <th>0</th>\n",
              "      <td>case29</td>\n",
              "      <td>1</td>\n",
              "      <td>0.682909</td>\n",
              "      <td>0.560353</td>\n",
              "    </tr>\n",
              "    <tr>\n",
              "      <th>1</th>\n",
              "      <td>case29</td>\n",
              "      <td>2</td>\n",
              "      <td>1.378905</td>\n",
              "      <td>1.284824</td>\n",
              "    </tr>\n",
              "    <tr>\n",
              "      <th>2</th>\n",
              "      <td>case29</td>\n",
              "      <td>3</td>\n",
              "      <td>1.720201</td>\n",
              "      <td>1.590368</td>\n",
              "    </tr>\n",
              "    <tr>\n",
              "      <th>3</th>\n",
              "      <td>case29</td>\n",
              "      <td>4</td>\n",
              "      <td>2.214153</td>\n",
              "      <td>1.962826</td>\n",
              "    </tr>\n",
              "    <tr>\n",
              "      <th>4</th>\n",
              "      <td>case29</td>\n",
              "      <td>5</td>\n",
              "      <td>2.039159</td>\n",
              "      <td>1.945541</td>\n",
              "    </tr>\n",
              "    <tr>\n",
              "      <th>...</th>\n",
              "      <td>...</td>\n",
              "      <td>...</td>\n",
              "      <td>...</td>\n",
              "      <td>...</td>\n",
              "    </tr>\n",
              "    <tr>\n",
              "      <th>135</th>\n",
              "      <td>case33</td>\n",
              "      <td>24</td>\n",
              "      <td>41.214073</td>\n",
              "      <td>42.689979</td>\n",
              "    </tr>\n",
              "    <tr>\n",
              "      <th>136</th>\n",
              "      <td>case33</td>\n",
              "      <td>25</td>\n",
              "      <td>59.359870</td>\n",
              "      <td>62.093558</td>\n",
              "    </tr>\n",
              "    <tr>\n",
              "      <th>137</th>\n",
              "      <td>case33</td>\n",
              "      <td>26</td>\n",
              "      <td>59.203129</td>\n",
              "      <td>61.035548</td>\n",
              "    </tr>\n",
              "    <tr>\n",
              "      <th>138</th>\n",
              "      <td>case33</td>\n",
              "      <td>27</td>\n",
              "      <td>73.674342</td>\n",
              "      <td>69.823800</td>\n",
              "    </tr>\n",
              "    <tr>\n",
              "      <th>139</th>\n",
              "      <td>case33</td>\n",
              "      <td>28</td>\n",
              "      <td>90.003109</td>\n",
              "      <td>91.026650</td>\n",
              "    </tr>\n",
              "  </tbody>\n",
              "</table>\n",
              "<p>140 rows × 4 columns</p>\n",
              "</div>\n",
              "      <button class=\"colab-df-convert\" onclick=\"convertToInteractive('df-50f53cdc-e06a-44d9-996e-f15f6efb6dd6')\"\n",
              "              title=\"Convert this dataframe to an interactive table.\"\n",
              "              style=\"display:none;\">\n",
              "        \n",
              "  <svg xmlns=\"http://www.w3.org/2000/svg\" height=\"24px\"viewBox=\"0 0 24 24\"\n",
              "       width=\"24px\">\n",
              "    <path d=\"M0 0h24v24H0V0z\" fill=\"none\"/>\n",
              "    <path d=\"M18.56 5.44l.94 2.06.94-2.06 2.06-.94-2.06-.94-.94-2.06-.94 2.06-2.06.94zm-11 1L8.5 8.5l.94-2.06 2.06-.94-2.06-.94L8.5 2.5l-.94 2.06-2.06.94zm10 10l.94 2.06.94-2.06 2.06-.94-2.06-.94-.94-2.06-.94 2.06-2.06.94z\"/><path d=\"M17.41 7.96l-1.37-1.37c-.4-.4-.92-.59-1.43-.59-.52 0-1.04.2-1.43.59L10.3 9.45l-7.72 7.72c-.78.78-.78 2.05 0 2.83L4 21.41c.39.39.9.59 1.41.59.51 0 1.02-.2 1.41-.59l7.78-7.78 2.81-2.81c.8-.78.8-2.07 0-2.86zM5.41 20L4 18.59l7.72-7.72 1.47 1.35L5.41 20z\"/>\n",
              "  </svg>\n",
              "      </button>\n",
              "      \n",
              "  <style>\n",
              "    .colab-df-container {\n",
              "      display:flex;\n",
              "      flex-wrap:wrap;\n",
              "      gap: 12px;\n",
              "    }\n",
              "\n",
              "    .colab-df-convert {\n",
              "      background-color: #E8F0FE;\n",
              "      border: none;\n",
              "      border-radius: 50%;\n",
              "      cursor: pointer;\n",
              "      display: none;\n",
              "      fill: #1967D2;\n",
              "      height: 32px;\n",
              "      padding: 0 0 0 0;\n",
              "      width: 32px;\n",
              "    }\n",
              "\n",
              "    .colab-df-convert:hover {\n",
              "      background-color: #E2EBFA;\n",
              "      box-shadow: 0px 1px 2px rgba(60, 64, 67, 0.3), 0px 1px 3px 1px rgba(60, 64, 67, 0.15);\n",
              "      fill: #174EA6;\n",
              "    }\n",
              "\n",
              "    [theme=dark] .colab-df-convert {\n",
              "      background-color: #3B4455;\n",
              "      fill: #D2E3FC;\n",
              "    }\n",
              "\n",
              "    [theme=dark] .colab-df-convert:hover {\n",
              "      background-color: #434B5C;\n",
              "      box-shadow: 0px 1px 3px 1px rgba(0, 0, 0, 0.15);\n",
              "      filter: drop-shadow(0px 1px 2px rgba(0, 0, 0, 0.3));\n",
              "      fill: #FFFFFF;\n",
              "    }\n",
              "  </style>\n",
              "\n",
              "      <script>\n",
              "        const buttonEl =\n",
              "          document.querySelector('#df-50f53cdc-e06a-44d9-996e-f15f6efb6dd6 button.colab-df-convert');\n",
              "        buttonEl.style.display =\n",
              "          google.colab.kernel.accessAllowed ? 'block' : 'none';\n",
              "\n",
              "        async function convertToInteractive(key) {\n",
              "          const element = document.querySelector('#df-50f53cdc-e06a-44d9-996e-f15f6efb6dd6');\n",
              "          const dataTable =\n",
              "            await google.colab.kernel.invokeFunction('convertToInteractive',\n",
              "                                                     [key], {});\n",
              "          if (!dataTable) return;\n",
              "\n",
              "          const docLinkHtml = 'Like what you see? Visit the ' +\n",
              "            '<a target=\"_blank\" href=https://colab.research.google.com/notebooks/data_table.ipynb>data table notebook</a>'\n",
              "            + ' to learn more about interactive tables.';\n",
              "          element.innerHTML = '';\n",
              "          dataTable['output_type'] = 'display_data';\n",
              "          await google.colab.output.renderOutput(dataTable, element);\n",
              "          const docLink = document.createElement('div');\n",
              "          docLink.innerHTML = docLinkHtml;\n",
              "          element.appendChild(docLink);\n",
              "        }\n",
              "      </script>\n",
              "    </div>\n",
              "  </div>\n",
              "  "
            ],
            "text/plain": [
              "         상추  DAT  predicted_weight_g  predicted_weight_g\n",
              "0    case29    1            0.682909            0.560353\n",
              "1    case29    2            1.378905            1.284824\n",
              "2    case29    3            1.720201            1.590368\n",
              "3    case29    4            2.214153            1.962826\n",
              "4    case29    5            2.039159            1.945541\n",
              "..      ...  ...                 ...                 ...\n",
              "135  case33   24           41.214073           42.689979\n",
              "136  case33   25           59.359870           62.093558\n",
              "137  case33   26           59.203129           61.035548\n",
              "138  case33   27           73.674342           69.823800\n",
              "139  case33   28           90.003109           91.026650\n",
              "\n",
              "[140 rows x 4 columns]"
            ]
          },
          "execution_count": 36,
          "metadata": {},
          "output_type": "execute_result"
        }
      ],
      "source": [
        "Y_test['생육일별_잎_중량'] = final_pred_sub_Enet\n",
        "Y_test = Y_test.rename(columns={'생육일':'DAT', '생육일별_잎_중량':'predicted_weight_g'})\n",
        "Y_test"
      ]
    },
    {
      "cell_type": "code",
      "execution_count": null,
      "metadata": {
        "id": "skbYVJFXC9Ff"
      },
      "outputs": [],
      "source": [
        "for i in range(5):\n",
        "  submission = Y_test[i*28:(i*28)+28]\n",
        "  submission.to_csv(\"TEST_0\" + str(i+1) + \".csv\", mode='w', index=False)\n",
        "\n",
        "import zipfile\n",
        "path = \"/content/drive/MyDrive/01.Competition/03.Create_lettuce_growing_environment_AI/my_submission/09_9type_model/\"\n",
        "file_list = ['TEST_01.csv', 'TEST_02.csv', 'TEST_03.csv', 'TEST_04.csv', 'TEST_05.csv']\n",
        "with zipfile.ZipFile(path + \"ElasticnetRegression_1217_4.zip\", 'w') as my_zip:\n",
        "    for i in file_list:\n",
        "        my_zip.write(i)\n",
        "    my_zip.close()\n",
        "\n",
        "Y_test = Y_test.drop(['predicted_weight_g'], axis=1)"
      ]
    },
    {
      "cell_type": "markdown",
      "metadata": {
        "id": "H17D-DVKCZRD"
      },
      "source": [
        "##### DecisionTreeRegressor"
      ]
    },
    {
      "cell_type": "code",
      "execution_count": null,
      "metadata": {
        "colab": {
          "base_uri": "https://localhost:8080/"
        },
        "id": "FLSHiWWKBakM",
        "outputId": "ae0c6ac4-1583-436b-cfb6-41f51fe7c131"
      },
      "outputs": [
        {
          "name": "stdout",
          "output_type": "stream",
          "text": [
            "DecisionTreeRegressor score: 0.6807 (0.0868)\n"
          ]
        }
      ],
      "source": [
        "model_DTree = DecisionTreeRegressor(max_depth=6, min_samples_split=10, min_samples_leaf=15, random_state=1)\n",
        "\n",
        "score = rmsle_cv(model_DTree)\n",
        "print(\"DecisionTreeRegressor score: {:.4f} ({:.4f})\".format(score.mean(), score.std()))"
      ]
    },
    {
      "cell_type": "code",
      "execution_count": null,
      "metadata": {
        "colab": {
          "base_uri": "https://localhost:8080/"
        },
        "id": "aKk5S_l7CbLj",
        "outputId": "31b50c11-c6c4-4735-d634-eaf470ea370b"
      },
      "outputs": [
        {
          "data": {
            "text/plain": [
              "DecisionTreeRegressor(max_depth=6, min_samples_leaf=15, min_samples_split=10,\n",
              "                      random_state=1)"
            ]
          },
          "execution_count": 39,
          "metadata": {},
          "output_type": "execute_result"
        }
      ],
      "source": [
        "model_DTree.fit(X_train, Y_train)"
      ]
    },
    {
      "cell_type": "code",
      "execution_count": null,
      "metadata": {
        "colab": {
          "base_uri": "https://localhost:8080/"
        },
        "id": "8qnEcA0eCgSp",
        "outputId": "16c5a51b-69de-4264-da3b-673c3723fcc1"
      },
      "outputs": [
        {
          "data": {
            "text/plain": [
              "array([  3.51654403,   0.4925763 ,   0.4925763 ,   0.4925763 ,\n",
              "         2.15950704,   2.15950704,   4.91727034,   4.91727034,\n",
              "         4.91727034,   7.41427   ,   5.789258  ,  14.53020942,\n",
              "        32.39067703,  21.24948571,  14.70120254,  64.8514412 ,\n",
              "        31.7736387 ,  17.7812815 ,  31.7736387 ,  31.7736387 ,\n",
              "        46.3314019 ,  46.3314019 ,  64.85624779,  89.26904737,\n",
              "        89.26904737,  89.26904737,  93.82660343,  93.82660343,\n",
              "         1.35051332,   1.35051332,   1.35051332,   2.38248454,\n",
              "         2.15950704,   2.15950704,   8.47484832,   4.91727034,\n",
              "        14.53020942,   7.41427   ,   7.41427   ,   7.41427   ,\n",
              "         7.41427   ,   9.93708121,  14.70120254,  14.70120254,\n",
              "        17.7812815 ,  17.7812815 ,  17.7812815 ,  17.7812815 ,\n",
              "       151.56891437,  27.42797567,  27.42797567,  27.42797567,\n",
              "        27.42797567,  27.42797567,  27.42797567,  57.72333191,\n",
              "         1.40150465,   1.40150465,   1.40150465,   2.38248454,\n",
              "         2.38248454,   1.40150465,   5.65163897,   5.65163897,\n",
              "         5.65163897,   5.65163897,   5.65163897,   8.47484832,\n",
              "         5.65163897,   9.93708121,   9.93708121,  14.70120254,\n",
              "        14.96564158,  14.96564158,  14.96564158,  14.96564158,\n",
              "        23.9922192 ,  23.9922192 ,  23.9922192 ,  23.9922192 ,\n",
              "        23.9922192 ,  23.9922192 ,  23.9922192 ,  23.9922192 ,\n",
              "         0.4925763 ,   3.51654403,   3.51654403,   0.4925763 ,\n",
              "         2.15950704,   2.15950704,   4.91727034,   4.91727034,\n",
              "         4.91727034,   7.41427   ,   7.41427   ,  14.53020942,\n",
              "        32.39067703,  14.70120254,  14.70120254,  21.24948571,\n",
              "        31.7736387 ,  17.7812815 ,  31.7736387 ,  31.7736387 ,\n",
              "        27.42797567,  46.3314019 ,  64.85624779,  89.26904737,\n",
              "        89.26904737,  89.26904737,  93.82660343,  93.82660343,\n",
              "         1.35051332,   1.35051332,   1.35051332,   1.35051332,\n",
              "         2.15950704,   2.15950704,   3.07577082,   3.07577082,\n",
              "         3.07577082,   7.41427   ,   7.41427   ,   7.41427   ,\n",
              "         5.789258  ,  14.70120254,  14.70120254,  14.70120254,\n",
              "        17.7812815 ,  17.7812815 ,  17.7812815 ,  17.7812815 ,\n",
              "        27.42797567,  93.82660343,  57.72333191,  27.42797567,\n",
              "        57.72333191,  57.72333191,  57.72333191,  57.72333191])"
            ]
          },
          "execution_count": 40,
          "metadata": {},
          "output_type": "execute_result"
        }
      ],
      "source": [
        "pred_DTree = model_DTree.predict(X_test)\n",
        "final_pred_sub_DTree = np.expm1(pred_DTree)\n",
        "final_pred_sub_DTree"
      ]
    },
    {
      "cell_type": "code",
      "execution_count": null,
      "metadata": {
        "colab": {
          "base_uri": "https://localhost:8080/",
          "height": 424
        },
        "id": "HGkn6I68Ct_O",
        "outputId": "db2ae6ca-22be-4b43-fcbc-9e44411c82a6"
      },
      "outputs": [
        {
          "data": {
            "text/html": [
              "\n",
              "  <div id=\"df-0d75f512-c298-43e9-8e63-ad4f54a28b5f\">\n",
              "    <div class=\"colab-df-container\">\n",
              "      <div>\n",
              "<style scoped>\n",
              "    .dataframe tbody tr th:only-of-type {\n",
              "        vertical-align: middle;\n",
              "    }\n",
              "\n",
              "    .dataframe tbody tr th {\n",
              "        vertical-align: top;\n",
              "    }\n",
              "\n",
              "    .dataframe thead th {\n",
              "        text-align: right;\n",
              "    }\n",
              "</style>\n",
              "<table border=\"1\" class=\"dataframe\">\n",
              "  <thead>\n",
              "    <tr style=\"text-align: right;\">\n",
              "      <th></th>\n",
              "      <th>상추</th>\n",
              "      <th>DAT</th>\n",
              "      <th>predicted_weight_g</th>\n",
              "    </tr>\n",
              "  </thead>\n",
              "  <tbody>\n",
              "    <tr>\n",
              "      <th>0</th>\n",
              "      <td>case29</td>\n",
              "      <td>1</td>\n",
              "      <td>3.516544</td>\n",
              "    </tr>\n",
              "    <tr>\n",
              "      <th>1</th>\n",
              "      <td>case29</td>\n",
              "      <td>2</td>\n",
              "      <td>0.492576</td>\n",
              "    </tr>\n",
              "    <tr>\n",
              "      <th>2</th>\n",
              "      <td>case29</td>\n",
              "      <td>3</td>\n",
              "      <td>0.492576</td>\n",
              "    </tr>\n",
              "    <tr>\n",
              "      <th>3</th>\n",
              "      <td>case29</td>\n",
              "      <td>4</td>\n",
              "      <td>0.492576</td>\n",
              "    </tr>\n",
              "    <tr>\n",
              "      <th>4</th>\n",
              "      <td>case29</td>\n",
              "      <td>5</td>\n",
              "      <td>2.159507</td>\n",
              "    </tr>\n",
              "    <tr>\n",
              "      <th>...</th>\n",
              "      <td>...</td>\n",
              "      <td>...</td>\n",
              "      <td>...</td>\n",
              "    </tr>\n",
              "    <tr>\n",
              "      <th>135</th>\n",
              "      <td>case33</td>\n",
              "      <td>24</td>\n",
              "      <td>27.427976</td>\n",
              "    </tr>\n",
              "    <tr>\n",
              "      <th>136</th>\n",
              "      <td>case33</td>\n",
              "      <td>25</td>\n",
              "      <td>57.723332</td>\n",
              "    </tr>\n",
              "    <tr>\n",
              "      <th>137</th>\n",
              "      <td>case33</td>\n",
              "      <td>26</td>\n",
              "      <td>57.723332</td>\n",
              "    </tr>\n",
              "    <tr>\n",
              "      <th>138</th>\n",
              "      <td>case33</td>\n",
              "      <td>27</td>\n",
              "      <td>57.723332</td>\n",
              "    </tr>\n",
              "    <tr>\n",
              "      <th>139</th>\n",
              "      <td>case33</td>\n",
              "      <td>28</td>\n",
              "      <td>57.723332</td>\n",
              "    </tr>\n",
              "  </tbody>\n",
              "</table>\n",
              "<p>140 rows × 3 columns</p>\n",
              "</div>\n",
              "      <button class=\"colab-df-convert\" onclick=\"convertToInteractive('df-0d75f512-c298-43e9-8e63-ad4f54a28b5f')\"\n",
              "              title=\"Convert this dataframe to an interactive table.\"\n",
              "              style=\"display:none;\">\n",
              "        \n",
              "  <svg xmlns=\"http://www.w3.org/2000/svg\" height=\"24px\"viewBox=\"0 0 24 24\"\n",
              "       width=\"24px\">\n",
              "    <path d=\"M0 0h24v24H0V0z\" fill=\"none\"/>\n",
              "    <path d=\"M18.56 5.44l.94 2.06.94-2.06 2.06-.94-2.06-.94-.94-2.06-.94 2.06-2.06.94zm-11 1L8.5 8.5l.94-2.06 2.06-.94-2.06-.94L8.5 2.5l-.94 2.06-2.06.94zm10 10l.94 2.06.94-2.06 2.06-.94-2.06-.94-.94-2.06-.94 2.06-2.06.94z\"/><path d=\"M17.41 7.96l-1.37-1.37c-.4-.4-.92-.59-1.43-.59-.52 0-1.04.2-1.43.59L10.3 9.45l-7.72 7.72c-.78.78-.78 2.05 0 2.83L4 21.41c.39.39.9.59 1.41.59.51 0 1.02-.2 1.41-.59l7.78-7.78 2.81-2.81c.8-.78.8-2.07 0-2.86zM5.41 20L4 18.59l7.72-7.72 1.47 1.35L5.41 20z\"/>\n",
              "  </svg>\n",
              "      </button>\n",
              "      \n",
              "  <style>\n",
              "    .colab-df-container {\n",
              "      display:flex;\n",
              "      flex-wrap:wrap;\n",
              "      gap: 12px;\n",
              "    }\n",
              "\n",
              "    .colab-df-convert {\n",
              "      background-color: #E8F0FE;\n",
              "      border: none;\n",
              "      border-radius: 50%;\n",
              "      cursor: pointer;\n",
              "      display: none;\n",
              "      fill: #1967D2;\n",
              "      height: 32px;\n",
              "      padding: 0 0 0 0;\n",
              "      width: 32px;\n",
              "    }\n",
              "\n",
              "    .colab-df-convert:hover {\n",
              "      background-color: #E2EBFA;\n",
              "      box-shadow: 0px 1px 2px rgba(60, 64, 67, 0.3), 0px 1px 3px 1px rgba(60, 64, 67, 0.15);\n",
              "      fill: #174EA6;\n",
              "    }\n",
              "\n",
              "    [theme=dark] .colab-df-convert {\n",
              "      background-color: #3B4455;\n",
              "      fill: #D2E3FC;\n",
              "    }\n",
              "\n",
              "    [theme=dark] .colab-df-convert:hover {\n",
              "      background-color: #434B5C;\n",
              "      box-shadow: 0px 1px 3px 1px rgba(0, 0, 0, 0.15);\n",
              "      filter: drop-shadow(0px 1px 2px rgba(0, 0, 0, 0.3));\n",
              "      fill: #FFFFFF;\n",
              "    }\n",
              "  </style>\n",
              "\n",
              "      <script>\n",
              "        const buttonEl =\n",
              "          document.querySelector('#df-0d75f512-c298-43e9-8e63-ad4f54a28b5f button.colab-df-convert');\n",
              "        buttonEl.style.display =\n",
              "          google.colab.kernel.accessAllowed ? 'block' : 'none';\n",
              "\n",
              "        async function convertToInteractive(key) {\n",
              "          const element = document.querySelector('#df-0d75f512-c298-43e9-8e63-ad4f54a28b5f');\n",
              "          const dataTable =\n",
              "            await google.colab.kernel.invokeFunction('convertToInteractive',\n",
              "                                                     [key], {});\n",
              "          if (!dataTable) return;\n",
              "\n",
              "          const docLinkHtml = 'Like what you see? Visit the ' +\n",
              "            '<a target=\"_blank\" href=https://colab.research.google.com/notebooks/data_table.ipynb>data table notebook</a>'\n",
              "            + ' to learn more about interactive tables.';\n",
              "          element.innerHTML = '';\n",
              "          dataTable['output_type'] = 'display_data';\n",
              "          await google.colab.output.renderOutput(dataTable, element);\n",
              "          const docLink = document.createElement('div');\n",
              "          docLink.innerHTML = docLinkHtml;\n",
              "          element.appendChild(docLink);\n",
              "        }\n",
              "      </script>\n",
              "    </div>\n",
              "  </div>\n",
              "  "
            ],
            "text/plain": [
              "         상추  DAT  predicted_weight_g\n",
              "0    case29    1            3.516544\n",
              "1    case29    2            0.492576\n",
              "2    case29    3            0.492576\n",
              "3    case29    4            0.492576\n",
              "4    case29    5            2.159507\n",
              "..      ...  ...                 ...\n",
              "135  case33   24           27.427976\n",
              "136  case33   25           57.723332\n",
              "137  case33   26           57.723332\n",
              "138  case33   27           57.723332\n",
              "139  case33   28           57.723332\n",
              "\n",
              "[140 rows x 3 columns]"
            ]
          },
          "execution_count": 41,
          "metadata": {},
          "output_type": "execute_result"
        }
      ],
      "source": [
        "Y_test['생육일별_잎_중량'] = final_pred_sub_DTree\n",
        "Y_test = Y_test.rename(columns={'생육일':'DAT', '생육일별_잎_중량':'predicted_weight_g'})\n",
        "Y_test"
      ]
    },
    {
      "cell_type": "code",
      "execution_count": null,
      "metadata": {
        "id": "QbvvQ2GQC4ba"
      },
      "outputs": [],
      "source": [
        "for i in range(5):\n",
        "  submission = Y_test[i*28:(i*28)+28]\n",
        "  submission.to_csv(\"TEST_0\" + str(i+1) + \".csv\", mode='w', index=False)\n",
        "\n",
        "import zipfile\n",
        "path = \"/content/drive/MyDrive/01.Competition/03.Create_lettuce_growing_environment_AI/my_submission/09_9type_model/\"\n",
        "file_list = ['TEST_01.csv', 'TEST_02.csv', 'TEST_03.csv', 'TEST_04.csv', 'TEST_05.csv']\n",
        "with zipfile.ZipFile(path + \"DecisionTreeRegressor_1217_4.zip\", 'w') as my_zip:\n",
        "    for i in file_list:\n",
        "        my_zip.write(i)\n",
        "    my_zip.close()\n",
        "\n",
        "Y_test = Y_test.drop(['predicted_weight_g'], axis=1)"
      ]
    },
    {
      "cell_type": "markdown",
      "metadata": {
        "id": "Alfaagxa06Lx"
      },
      "source": [
        "## Ensemble"
      ]
    },
    {
      "cell_type": "code",
      "execution_count": null,
      "metadata": {
        "colab": {
          "base_uri": "https://localhost:8080/"
        },
        "id": "HgnV4GoG07wr",
        "outputId": "a0317425-8362-4e15-b2f4-21c4d8ceb6c9"
      },
      "outputs": [
        {
          "data": {
            "text/plain": [
              "array([  0.85072631,   0.89137641,   1.57896709,   1.77469571,\n",
              "         2.46917906,   3.62483196,   4.18739537,   4.98890113,\n",
              "         6.05354226,   7.42631558,   9.72950451,  12.64382062,\n",
              "        18.11741851,  20.29491245,  17.85258058,  31.2350157 ,\n",
              "        32.22354003,  30.56765037,  32.18344271,  38.55076126,\n",
              "        57.71747009,  61.794522  ,  88.97299322,  82.35943849,\n",
              "        85.43969593,  93.96808597,  97.19854615, 103.30245892,\n",
              "         0.61441626,   1.15410314,   1.51990016,   1.97501695,\n",
              "         1.85474747,   2.71752222,   3.51695411,   3.94786936,\n",
              "         4.16694635,   4.94535846,   5.73721146,   7.79431734,\n",
              "        10.04354264,   9.98414467,  12.2837929 ,  14.23139091,\n",
              "        18.69063144,  17.61627798,  19.01047971,  20.31783422,\n",
              "        30.51754452,  27.16159628,  30.12493207,  40.34623246,\n",
              "        36.05769496,  36.80736228,  37.54894293,  51.43524129,\n",
              "         1.19491102,   1.0277778 ,   1.22507185,   1.87559691,\n",
              "         1.983435  ,   2.91005088,   2.91867807,   3.39604198,\n",
              "         4.30836342,   4.4364511 ,   5.39315728,   6.6077216 ,\n",
              "         7.56227416,   9.03637835,  10.4443348 ,  11.25177285,\n",
              "        11.5614773 ,  10.69762302,  10.3942323 ,  12.25900641,\n",
              "        12.80182103,  14.31746025,  15.75179784,  16.10380432,\n",
              "        17.89571307,  19.40348963,  20.31824366,  20.30886925,\n",
              "         0.52596282,   1.24065247,   1.19041639,   1.5460672 ,\n",
              "         2.3798133 ,   3.23627443,   4.31210058,   4.35172278,\n",
              "         5.82884256,   6.9053109 ,   8.52935592,  13.41825713,\n",
              "        16.88716063,  18.87963205,  21.4443776 ,  25.42805775,\n",
              "        33.65351322,  31.47583774,  34.78599194,  40.72204745,\n",
              "        52.53817918,  66.55281113,  81.74495514,  97.06374003,\n",
              "        87.2566672 , 100.29900155, 103.62657636, 120.60053067,\n",
              "         0.47722735,   1.02509909,   1.16304524,   1.41864391,\n",
              "         1.76553436,   2.70352068,   3.167646  ,   3.78606432,\n",
              "         4.50885771,   5.17294322,   7.30474973,   8.43787183,\n",
              "         9.78724407,  12.849375  ,  19.28951589,  16.7771529 ,\n",
              "        15.86729839,  22.10562438,  23.68081677,  23.62666441,\n",
              "        27.92979084,  37.03832614,  42.29407117,  46.00224997,\n",
              "        53.82393343,  65.44026587,  61.45900781,  76.9631175 ])"
            ]
          },
          "execution_count": 80,
          "metadata": {},
          "output_type": "execute_result"
        }
      ],
      "source": [
        "total_weight = (1./gb_score) + (1./xgb_score) + (1./lgb_score)\n",
        "pred = (pred_gb * (1./gb_score) + pred_xgb * (1./xgb_score) +  pred_lgb * (1./lgb_score))/total_weight\n",
        "final_pred_sub_Ensemble = np.expm1(pred)\n",
        "final_pred_sub_Ensemble"
      ]
    },
    {
      "cell_type": "code",
      "execution_count": null,
      "metadata": {
        "colab": {
          "base_uri": "https://localhost:8080/",
          "height": 424
        },
        "id": "HhanstaA7cdg",
        "outputId": "75b910c0-e2c6-496c-f70b-c3a6b1d48fb8"
      },
      "outputs": [
        {
          "data": {
            "text/html": [
              "\n",
              "  <div id=\"df-545217ac-87ff-49d0-a78b-57c6eb8e5a16\">\n",
              "    <div class=\"colab-df-container\">\n",
              "      <div>\n",
              "<style scoped>\n",
              "    .dataframe tbody tr th:only-of-type {\n",
              "        vertical-align: middle;\n",
              "    }\n",
              "\n",
              "    .dataframe tbody tr th {\n",
              "        vertical-align: top;\n",
              "    }\n",
              "\n",
              "    .dataframe thead th {\n",
              "        text-align: right;\n",
              "    }\n",
              "</style>\n",
              "<table border=\"1\" class=\"dataframe\">\n",
              "  <thead>\n",
              "    <tr style=\"text-align: right;\">\n",
              "      <th></th>\n",
              "      <th>상추</th>\n",
              "      <th>DAT</th>\n",
              "      <th>predicted_weight_g</th>\n",
              "    </tr>\n",
              "  </thead>\n",
              "  <tbody>\n",
              "    <tr>\n",
              "      <th>0</th>\n",
              "      <td>case29</td>\n",
              "      <td>1</td>\n",
              "      <td>0.850726</td>\n",
              "    </tr>\n",
              "    <tr>\n",
              "      <th>1</th>\n",
              "      <td>case29</td>\n",
              "      <td>2</td>\n",
              "      <td>0.891376</td>\n",
              "    </tr>\n",
              "    <tr>\n",
              "      <th>2</th>\n",
              "      <td>case29</td>\n",
              "      <td>3</td>\n",
              "      <td>1.578967</td>\n",
              "    </tr>\n",
              "    <tr>\n",
              "      <th>3</th>\n",
              "      <td>case29</td>\n",
              "      <td>4</td>\n",
              "      <td>1.774696</td>\n",
              "    </tr>\n",
              "    <tr>\n",
              "      <th>4</th>\n",
              "      <td>case29</td>\n",
              "      <td>5</td>\n",
              "      <td>2.469179</td>\n",
              "    </tr>\n",
              "    <tr>\n",
              "      <th>...</th>\n",
              "      <td>...</td>\n",
              "      <td>...</td>\n",
              "      <td>...</td>\n",
              "    </tr>\n",
              "    <tr>\n",
              "      <th>135</th>\n",
              "      <td>case33</td>\n",
              "      <td>24</td>\n",
              "      <td>46.002250</td>\n",
              "    </tr>\n",
              "    <tr>\n",
              "      <th>136</th>\n",
              "      <td>case33</td>\n",
              "      <td>25</td>\n",
              "      <td>53.823933</td>\n",
              "    </tr>\n",
              "    <tr>\n",
              "      <th>137</th>\n",
              "      <td>case33</td>\n",
              "      <td>26</td>\n",
              "      <td>65.440266</td>\n",
              "    </tr>\n",
              "    <tr>\n",
              "      <th>138</th>\n",
              "      <td>case33</td>\n",
              "      <td>27</td>\n",
              "      <td>61.459008</td>\n",
              "    </tr>\n",
              "    <tr>\n",
              "      <th>139</th>\n",
              "      <td>case33</td>\n",
              "      <td>28</td>\n",
              "      <td>76.963117</td>\n",
              "    </tr>\n",
              "  </tbody>\n",
              "</table>\n",
              "<p>140 rows × 3 columns</p>\n",
              "</div>\n",
              "      <button class=\"colab-df-convert\" onclick=\"convertToInteractive('df-545217ac-87ff-49d0-a78b-57c6eb8e5a16')\"\n",
              "              title=\"Convert this dataframe to an interactive table.\"\n",
              "              style=\"display:none;\">\n",
              "        \n",
              "  <svg xmlns=\"http://www.w3.org/2000/svg\" height=\"24px\"viewBox=\"0 0 24 24\"\n",
              "       width=\"24px\">\n",
              "    <path d=\"M0 0h24v24H0V0z\" fill=\"none\"/>\n",
              "    <path d=\"M18.56 5.44l.94 2.06.94-2.06 2.06-.94-2.06-.94-.94-2.06-.94 2.06-2.06.94zm-11 1L8.5 8.5l.94-2.06 2.06-.94-2.06-.94L8.5 2.5l-.94 2.06-2.06.94zm10 10l.94 2.06.94-2.06 2.06-.94-2.06-.94-.94-2.06-.94 2.06-2.06.94z\"/><path d=\"M17.41 7.96l-1.37-1.37c-.4-.4-.92-.59-1.43-.59-.52 0-1.04.2-1.43.59L10.3 9.45l-7.72 7.72c-.78.78-.78 2.05 0 2.83L4 21.41c.39.39.9.59 1.41.59.51 0 1.02-.2 1.41-.59l7.78-7.78 2.81-2.81c.8-.78.8-2.07 0-2.86zM5.41 20L4 18.59l7.72-7.72 1.47 1.35L5.41 20z\"/>\n",
              "  </svg>\n",
              "      </button>\n",
              "      \n",
              "  <style>\n",
              "    .colab-df-container {\n",
              "      display:flex;\n",
              "      flex-wrap:wrap;\n",
              "      gap: 12px;\n",
              "    }\n",
              "\n",
              "    .colab-df-convert {\n",
              "      background-color: #E8F0FE;\n",
              "      border: none;\n",
              "      border-radius: 50%;\n",
              "      cursor: pointer;\n",
              "      display: none;\n",
              "      fill: #1967D2;\n",
              "      height: 32px;\n",
              "      padding: 0 0 0 0;\n",
              "      width: 32px;\n",
              "    }\n",
              "\n",
              "    .colab-df-convert:hover {\n",
              "      background-color: #E2EBFA;\n",
              "      box-shadow: 0px 1px 2px rgba(60, 64, 67, 0.3), 0px 1px 3px 1px rgba(60, 64, 67, 0.15);\n",
              "      fill: #174EA6;\n",
              "    }\n",
              "\n",
              "    [theme=dark] .colab-df-convert {\n",
              "      background-color: #3B4455;\n",
              "      fill: #D2E3FC;\n",
              "    }\n",
              "\n",
              "    [theme=dark] .colab-df-convert:hover {\n",
              "      background-color: #434B5C;\n",
              "      box-shadow: 0px 1px 3px 1px rgba(0, 0, 0, 0.15);\n",
              "      filter: drop-shadow(0px 1px 2px rgba(0, 0, 0, 0.3));\n",
              "      fill: #FFFFFF;\n",
              "    }\n",
              "  </style>\n",
              "\n",
              "      <script>\n",
              "        const buttonEl =\n",
              "          document.querySelector('#df-545217ac-87ff-49d0-a78b-57c6eb8e5a16 button.colab-df-convert');\n",
              "        buttonEl.style.display =\n",
              "          google.colab.kernel.accessAllowed ? 'block' : 'none';\n",
              "\n",
              "        async function convertToInteractive(key) {\n",
              "          const element = document.querySelector('#df-545217ac-87ff-49d0-a78b-57c6eb8e5a16');\n",
              "          const dataTable =\n",
              "            await google.colab.kernel.invokeFunction('convertToInteractive',\n",
              "                                                     [key], {});\n",
              "          if (!dataTable) return;\n",
              "\n",
              "          const docLinkHtml = 'Like what you see? Visit the ' +\n",
              "            '<a target=\"_blank\" href=https://colab.research.google.com/notebooks/data_table.ipynb>data table notebook</a>'\n",
              "            + ' to learn more about interactive tables.';\n",
              "          element.innerHTML = '';\n",
              "          dataTable['output_type'] = 'display_data';\n",
              "          await google.colab.output.renderOutput(dataTable, element);\n",
              "          const docLink = document.createElement('div');\n",
              "          docLink.innerHTML = docLinkHtml;\n",
              "          element.appendChild(docLink);\n",
              "        }\n",
              "      </script>\n",
              "    </div>\n",
              "  </div>\n",
              "  "
            ],
            "text/plain": [
              "         상추  DAT  predicted_weight_g\n",
              "0    case29    1            0.850726\n",
              "1    case29    2            0.891376\n",
              "2    case29    3            1.578967\n",
              "3    case29    4            1.774696\n",
              "4    case29    5            2.469179\n",
              "..      ...  ...                 ...\n",
              "135  case33   24           46.002250\n",
              "136  case33   25           53.823933\n",
              "137  case33   26           65.440266\n",
              "138  case33   27           61.459008\n",
              "139  case33   28           76.963117\n",
              "\n",
              "[140 rows x 3 columns]"
            ]
          },
          "execution_count": 81,
          "metadata": {},
          "output_type": "execute_result"
        }
      ],
      "source": [
        "Y_test['생육일별_잎_중량'] = final_pred_sub_Ensemble\n",
        "Y_test = Y_test.rename(columns={'생육일':'DAT', '생육일별_잎_중량':'predicted_weight_g'})\n",
        "Y_test"
      ]
    },
    {
      "cell_type": "code",
      "execution_count": null,
      "metadata": {
        "id": "jjV_jnoE7RPN"
      },
      "outputs": [],
      "source": [
        "for i in range(5):\n",
        "  submission = Y_test[i*28:(i*28)+28]\n",
        "  submission.to_csv(\"TEST_0\" + str(i+1) + \".csv\", mode='w', index=False)\n",
        "\n",
        "import zipfile\n",
        "path = \"/content/drive/MyDrive/01.Competition/03.Create_lettuce_growing_environment_AI/my_submission/09_9type_model/\"\n",
        "file_list = ['TEST_01.csv', 'TEST_02.csv', 'TEST_03.csv', 'TEST_04.csv', 'TEST_05.csv']\n",
        "with zipfile.ZipFile(path + \"Ensemble_1218_80_83_84.zip\", 'w') as my_zip:\n",
        "    for i in file_list:\n",
        "        my_zip.write(i)\n",
        "    my_zip.close()\n",
        "\n",
        "Y_test = Y_test.drop(['predicted_weight_g'], axis=1)"
      ]
    }
  ],
  "metadata": {
    "accelerator": "GPU",
    "colab": {
      "collapsed_sections": [
        "1mjRE6mWg5fk",
        "q1P8EdsZgzbA",
        "xNMIIbRxffff",
        "Alfaagxa06Lx",
        "tbey1rWVylEl",
        "i22dvy1XCRfX",
        "D6iLVedHCUTB",
        "YjfTKyrNCV-M",
        "oNZlRYhACXYK",
        "H17D-DVKCZRD"
      ],
      "provenance": []
    },
    "gpuClass": "standard",
    "kernelspec": {
      "display_name": "Python 3",
      "name": "python3"
    },
    "language_info": {
      "name": "python"
    }
  },
  "nbformat": 4,
  "nbformat_minor": 0
}